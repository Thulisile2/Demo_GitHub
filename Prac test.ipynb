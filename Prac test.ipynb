{
  "nbformat": 4,
  "nbformat_minor": 0,
  "metadata": {
    "colab": {
      "name": "Untitled3.ipynb",
      "provenance": [],
      "collapsed_sections": [],
      "authorship_tag": "ABX9TyNFRemJDym9kXtroEKWWKVA",
      "include_colab_link": true
    },
    "kernelspec": {
      "name": "python3",
      "display_name": "Python 3"
    },
    "language_info": {
      "name": "python"
    }
  },
  "cells": [
    {
      "cell_type": "markdown",
      "metadata": {
        "id": "view-in-github",
        "colab_type": "text"
      },
      "source": [
        "<a href=\"https://colab.research.google.com/github/Thulisile2/Demo_GitHub/blob/main/Prac%20test.ipynb\" target=\"_parent\"><img src=\"https://colab.research.google.com/assets/colab-badge.svg\" alt=\"Open In Colab\"/></a>"
      ]
    },
    {
      "cell_type": "markdown",
      "source": [
        "Question 1"
      ],
      "metadata": {
        "id": "DkGUTbWugzLy"
      }
    },
    {
      "cell_type": "code",
      "source": [
        "#Coefficient of a Quadratic Equation is as follows:\n",
        "a=float(input(\"Enter 'a' value :  \"))         #The user will input values \n",
        "b=float(input(\"Enter 'b' value : \"))\n",
        "c=float(input(\"Enter 'c' value : \"))\n",
        "\n",
        "d=(b*2)-(4*a*c)           # This one here will calculate the discriminant\n",
        "if d < 0 :                #if we get the discriminant to be less than zero we will not confinue to perform the Newton Raphson\n",
        "  print(\"Roots are imaginary\")\n",
        "\n",
        "#Our two solutions are as follows\n",
        "\n",
        "root1=(-b-cmath.sqrt(d))/(2*a)  #Calculating the roots for the quadratic\n",
        "root2=(-b+cmath.sqrt(d))/(2*a)\n",
        "\n",
        "tol = 0.01\n",
        "\n",
        "def derivative(f,x,dx=0.01):   #Finiding our derivative for each given function\n",
        "  df = f(x+dx) - f(x-dx)\n",
        "  return df/(2*dx)\n",
        "\n",
        "\n",
        "\n",
        "\n",
        "x=float(input(\"Enter estimation for roots function : \"))\n",
        "\n",
        "def func0(x):                #Our functions\n",
        "     return a*x**2 + b*x + c\n",
        "\n",
        "def func1deriv(x):\n",
        "  return 2*x\n",
        "\n",
        "def func1(x):\n",
        "  return x**2 - 4\n",
        "\n",
        "def func2deriv(x):\n",
        "  return 2*x-2\n",
        "\n",
        "def func2(x):\n",
        "  return x**2 - 2*x + 2\n",
        "\n",
        "   \n",
        "def Newton_Raphson(f,x0,dfdx,tol):                         # this is a recursive method to keep on itterating till the error is les than what we can tollerate. \n",
        "    if abs(f(x0)) < tol:\n",
        "        return x0\n",
        "    else:\n",
        "        return Newton_Raphson(f, dfdx, x0 - f(x0)/dfdx(x0), tol)\n",
        "\n",
        "n=0\n",
        "k=0\n",
        "xk_1=x                                      #The input from the user\n",
        "\n",
        "while abs(func1(xk_1)) > tol :\n",
        "    k += 1\n",
        "    xk = xk_1-func1(xk_1)/func1deriv(xk_1)         #Defining the Newton-Raphson equation\n",
        "    xk_1 = xk\n",
        "    print(k,'and the error is', abs(func1(xk_1)))\n",
        "\n"
      ],
      "metadata": {
        "colab": {
          "base_uri": "https://localhost:8080/"
        },
        "id": "YOMZH4KYSI0o",
        "outputId": "92f2efa9-fa53-42c1-b6b4-71af32020300"
      },
      "execution_count": 45,
      "outputs": [
        {
          "output_type": "stream",
          "name": "stdout",
          "text": [
            "Enter 'a' value :  5\n",
            "Enter 'b' value : 3\n",
            "Enter 'c' value : 2\n",
            "Roots are imaginary\n",
            "Enter estimation for roots function : 4\n",
            "1 and the error is 2.25\n",
            "2 and the error is 0.20249999999999968\n",
            "3 and the error is 0.002439396192741583\n"
          ]
        }
      ]
    },
    {
      "cell_type": "markdown",
      "source": [
        "Question 2"
      ],
      "metadata": {
        "id": "uzbPnp0cZ7ps"
      }
    },
    {
      "cell_type": "code",
      "source": [
        "import numpy as np\n",
        "import matplotlib.pyplot as plt\n",
        "\n",
        "\n",
        "h = 0.25                            #Time steps\n",
        "D = 10                              #Given value\n",
        "thetha = math.pi/3\n",
        "x = 0\n",
        "A = 1                               # The initial amplitude\n",
        "t_i = 0                             # Initial time\n",
        "t_f = 30                            # Final time\n",
        "t= np.arange(t_i, t_f, h)           #The time domain\n",
        "W0 = 1 #undamped angular frequency\n",
        "Xi = 0.1 # damping ratio, Chi\n",
        "si= A# initial value of theoretical solution\n",
        "\n",
        "(d**2*y)/(d**2) = Theo\n",
        "\n",
        "Theo = k(sqrt(1 + (dy/dx)))             #Theoreticalsolution\n",
        "plt.plot(t, Theo, '--', label='Theoretical')\n",
        "\n",
        "def f(s, v): # Derivative of function S; v = ds/dt\n",
        "   return (v, -2*Xi*w_O*v - np.power(w_0, 2)*s)\n",
        "\n",
        "# Two step method\n",
        "\n",
        "for ni in range(n_f):\n",
        "  (dsdx, dvdx) = ((s[ni], v[ni]))\n",
        "  s_h = s[ni] + 0.5*h*dsdx\n",
        "  v_h = vi[ni] + 0.5*h* dvdx\n",
        "  (dsdt, dvdt) = f(sh, vh)\n",
        "  S_new = s[ni] + h*dsdt\n",
        "  v_new = v[ni] + h*dvdt\n",
        "  S += [s_new]\n",
        "  V += [v_new]\n",
        "\n",
        "\n"
      ],
      "metadata": {
        "colab": {
          "base_uri": "https://localhost:8080/",
          "height": 130
        },
        "id": "nCi3Pid-Z9eG",
        "outputId": "82c3886f-9e9b-4bf1-e221-e6b8e7237d2d"
      },
      "execution_count": 64,
      "outputs": [
        {
          "output_type": "error",
          "ename": "SyntaxError",
          "evalue": "ignored",
          "traceback": [
            "\u001b[0;36m  File \u001b[0;32m\"<ipython-input-64-a61fdfbafddc>\"\u001b[0;36m, line \u001b[0;32m18\u001b[0m\n\u001b[0;31m    (d**2*y)/(d**2) = Theo\u001b[0m\n\u001b[0m                          ^\u001b[0m\n\u001b[0;31mSyntaxError\u001b[0m\u001b[0;31m:\u001b[0m can't assign to operator\n"
          ]
        }
      ]
    }
  ]
}