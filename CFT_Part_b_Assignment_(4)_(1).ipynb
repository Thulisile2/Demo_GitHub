{
  "cells": [
    {
      "cell_type": "markdown",
      "metadata": {
        "id": "view-in-github",
        "colab_type": "text"
      },
      "source": [
        "<a href=\"https://colab.research.google.com/github/Thulisile2/Demo_GitHub/blob/main/CFT_Part_b_Assignment_(4)_(1).ipynb\" target=\"_parent\"><img src=\"https://colab.research.google.com/assets/colab-badge.svg\" alt=\"Open In Colab\"/></a>"
      ]
    },
    {
      "cell_type": "markdown",
      "metadata": {
        "id": "33qxCDlwCNWv"
      },
      "source": [
        "# Question 1 The Lorentz Group and Its Generators **(10 points)**"
      ]
    },
    {
      "cell_type": "markdown",
      "metadata": {
        "id": "icMa85qRTl-S"
      },
      "source": [
        "**Note:** Use the Sympy simplify() function for this question when printing the final output of a computation!!"
      ]
    },
    {
      "cell_type": "markdown",
      "metadata": {
        "id": "ncEDjpl9h4Ok"
      },
      "source": [
        "We have learned that the Lorentz transformations form a group called the Lorentz group, in this exercise we shall study the Lorentz group further and focus on its generators and their matrix representations. For more information one could look at chapter 10 of the following book (Groups, Representation and Physics by H. F. Jones).\n",
        "\n",
        "**(a)** We know that there are two types of Lorentz transformations: boosts and rotations. These Lorentz transformations can be written in terms of their generators as follows. For boosts we can write,\n",
        "\n",
        "$$(\\Lambda_{w}^{\\mathrm{(boost)}})^{\\mu}_{\\hspace{2mm}\\nu}=e^{-i\\phi B_{w}}$$\n",
        "\n",
        "where $w=x,y,z$ and the matrices $B_{w}$ are called the generators of boosts and $\\phi$ the rapidity. The generators for the boosts in each direction are given as follows,\n",
        "\n",
        "$$B_{x}=\\begin{pmatrix}\n",
        "0 & -i & 0 & 0\\\\\n",
        "-i & 0 & 0 & 0\\\\\n",
        "0 & 0 & 0 & 0\\\\\n",
        "0 & 0 & 0 & 0\\\\\n",
        "\\end{pmatrix},\\hspace{10mm}B_{y}=\\begin{pmatrix}\n",
        "0 & 0 & -i & 0\\\\\n",
        "0 & 0 & 0 & 0\\\\\n",
        "-i & 0 & 0 & 0\\\\\n",
        "0 & 0 & 0 & 0\\\\\n",
        "\\end{pmatrix},\\hspace{10mm} B_{z}=\\begin{pmatrix}\n",
        "0 & 0 & 0 & -i\\\\\n",
        "0 & 0 & 0 & 0\\\\\n",
        "0 & 0 & 0 & 0\\\\\n",
        "-i & 0 & 0 & 0\\\\\n",
        "\\end{pmatrix}. $$\n",
        "\n",
        "Using sympy find the Lorentz transformations for the boosts in each ofn the 3 directions using the generators above. **(4 points)**"
      ]
    },
    {
      "cell_type": "code",
      "execution_count": null,
      "metadata": {
        "colab": {
          "base_uri": "https://localhost:8080/"
        },
        "id": "tXRUSdHih3k4",
        "outputId": "70c7e99d-39bd-4c3f-bd11-40381e9a5dc9"
      },
      "outputs": [
        {
          "output_type": "stream",
          "name": "stdout",
          "text": [
            "\n",
            "\n",
            "⎡cosh(φ)   -sinh(φ)  0  0⎤\n",
            "⎢                        ⎥\n",
            "⎢-sinh(φ)  cosh(φ)   0  0⎥\n",
            "⎢                        ⎥\n",
            "⎢   0         0      1  0⎥\n",
            "⎢                        ⎥\n",
            "⎣   0         0      0  1⎦\n",
            "\n",
            "\n",
            "⎡cosh(φ)   0  -sinh(φ)  0⎤\n",
            "⎢                        ⎥\n",
            "⎢   0      1     0      0⎥\n",
            "⎢                        ⎥\n",
            "⎢-sinh(φ)  0  cosh(φ)   0⎥\n",
            "⎢                        ⎥\n",
            "⎣   0      0     0      1⎦\n",
            "\n",
            "\n",
            "⎡cosh(φ)   0  0  -sinh(φ)⎤\n",
            "⎢                        ⎥\n",
            "⎢   0      1  0     0    ⎥\n",
            "⎢                        ⎥\n",
            "⎢   0      0  1     0    ⎥\n",
            "⎢                        ⎥\n",
            "⎣-sinh(φ)  0  0  cosh(φ) ⎦\n"
          ]
        }
      ],
      "source": [
        "# your solution to 1. (a) here!!\n",
        "import sympy as sp\n",
        "from sympy.core.function import Lambda\n",
        "from sympy.abc import i,f,a,b\n",
        "from sympy import Symbol, exp, simplify, Matrix,pprint,init_printing\n",
        "\n",
        "\n",
        "#Defining our variables\n",
        "g = Symbol('gamma')\n",
        "b = Symbol('beta')\n",
        "p = Symbol('phi')\n",
        "i = I\n",
        "\n",
        "\n",
        "#Creating a matrix\n",
        "Bx = sp.Matrix([[0, -i, 0 , 0], [-i, 0, 0, 0], [0, 0, 0, 0], [0, 0, 0, 0]])\n",
        "By = sp.Matrix([[0,0,-i,0],[0,0,0,0],[-i,0,0,0],[0,0,0,0]])\n",
        "Bz = sp.Matrix([[0,0,0,-i],[0,0,0,0],[0,0,0,0],[-i,0,0,0]])\n",
        "\n",
        "#We are going to be generating a matrix and outputting Lambda as a 4by4 matrix and we will simplify our Lambda\n",
        "\n",
        "\n",
        "#Boost for x direction\n",
        "f = -i*phi*Bx\n",
        "Lambda = sp.exp(f)\n",
        "Lambda.reshape(4,4)\n",
        "equation = sp.simplify(Lambda)\n",
        "print('\\n')          \n",
        "pprint((equation))\n",
        "\n",
        "#Boost for y direction\n",
        "f = -i*phi*By\n",
        "Lambda = sp.exp(f)\n",
        "Lambda.reshape(4,4)\n",
        "equation = sp.simplify(Lambda)\n",
        "print('\\n')          \n",
        "pprint((equation))\n",
        "\n",
        "#Boost for y direction\n",
        "f = -i*phi*Bz\n",
        "Lambda = sp.exp(f)\n",
        "Lambda.reshape(4,4)\n",
        "equation = sp.simplify(Lambda)\n",
        "print('\\n')          \n",
        "pprint((equation))"
      ]
    },
    {
      "cell_type": "markdown",
      "metadata": {
        "id": "Wmb5ieJepc9m"
      },
      "source": [
        "**(b)** The other types of Lorentz transformations are rotations and we can write these as follows,\n",
        "\n",
        "$(\\Lambda_{w}^{(rot)})^{\\mu}_{\\hspace{2mm}\\nu}=e^{-i\\theta R_{w}},$\n",
        "\n",
        "where $R_{w}$ are the generators of the rotation about each axes $w=x,y,z$ and $\\theta$ is the angle of rotation. We can calculate the generators of the rotations with the following formula,\n",
        "\n",
        "$R_{w}=i\\frac{d\\Lambda_{w}^{(rot)}}{d\\theta}\\bigg|_{\\theta=0}$.\n",
        "\n",
        "Now use the diff() function from sympy as well as evalf() to calculate the generators of Lorentz rotations about each axes given the 3 Lorentz rotation matrices,\n",
        "\n",
        "$$\\Lambda_{x}^{\\mathrm{(rot)}}=\\begin{pmatrix}\n",
        "1 & 0 & 0 & 0\\\\\n",
        "0 & 1 & 0 & 0\\\\\n",
        "0 & 0 & \\cos(\\theta) & -\\sin(\\theta)\\\\\n",
        "0 & 0 & \\sin(\\theta) & \\cos(\\theta)\\\\\n",
        "\\end{pmatrix}, \\hspace{10mm} \\Lambda_{z}^{\\mathrm{(rot)}}=\\begin{pmatrix}\n",
        "1 & 0 & 0 & 0\\\\\n",
        "0 & \\cos(\\theta) & -\\sin(\\theta)& 0\\\\\n",
        "0 0 & \\sin(\\theta) & \\cos(\\theta)& 0\\\\\n",
        "0 & 0 & 0 & 1\\\\\n",
        "\\end{pmatrix}, \\hspace{10mm} \\Lambda_{y}^{\\mathrm{(rot)}}=\\begin{pmatrix}\n",
        "1 & 0 & 0 & 0\\\\\n",
        "0 & \\cos(\\theta) & 0 & -\\sin(\\theta)\\\\\n",
        "0 & 0 & 1 & 0\\\\\n",
        "0 & \\sin(\\theta) & 0 & \\cos(\\theta)\\\\\n",
        "\\end{pmatrix}$$\n",
        "\n",
        "Hint: the diff() function calculates the derivative of a sympy matrix or expression with respect to a given symbol. The evalf() function will allow you to substitute a numerical value for a sympy symbol. One could check the sympy documentation for more information on how to use these functions. **(4 points)**"
      ]
    },
    {
      "cell_type": "code",
      "source": [
        "# your solution to 1. (b) here!!\n",
        "import sympy as sp\n",
        "from sympy.core.function import Lambda\n",
        "from sympy import diff, sin, exp\n",
        "from sympy.abc import i,f,a,b,G\n",
        "from sympy import Symbol, exp, simplify, Matrix,pprint,init_printing,sin,cos\n",
        "#from sympy import *\n",
        "\n",
        "\n",
        "#Defining our variables\n",
        "g = Symbol('gamma')\n",
        "R = Symbol('Rotations')\n",
        "r1 = Symbol('r1')\n",
        "r2 = Symbol('r2')\n",
        "r3 = Symbol('r3')\n",
        "t = Symbol('theta')\n",
        "i = Symbol('I')\n",
        "p = Symbol('phi')\n",
        "Lorentz1 = Symbol('Lorentz1')\n",
        "Lorentz2 = Symbol('Lorentz2')\n",
        "Lorentz3 = Symbol('Lorentz3')\n",
        "\n",
        "#Defining our Lorentz rotation matrixs in terms of sin(t) and cos(t)\n",
        "Ax = Matrix([[-1, 0, 0 , 0], [0, 1, 0, 0], [0, 0, cos(t), -sin(t)], [0, 0, sin(t), cos(t)]])\n",
        "Ay = Matrix([[1,0,0,0],[0,cos(t),0,-sin(t)],[0,0,1,0],[0,sin(t),0,cos(t)]])\n",
        "Az = Matrix([[1,0,0,0],[0,cos(t),-sin(t),0],[0,sin(t),cos(t),0],[0,0,0,1]])\n",
        "\n",
        "\n",
        "#Defining another type of Lorentz transformations which is the  rotations\n",
        "#f = -i*t*R\n",
        "#Generator of Lorentz rotation for lambda(x)\n",
        "          \n",
        "\n",
        "\n",
        "#When we calculate the generators of the rotations we use the following formula\n",
        "#And using sympy.diff() method\n",
        "#f,i = symbols('f  i', cls=Function)\n",
        "r = i*diff(Ax,t)\n",
        "f = -i*t*r\n",
        "Lorentz1 = simplify(exp(f))\n",
        "pprint((\" Generators of Lorentz rotation for lambda(x): {}\".format(Lorentz)))\n",
        "\n",
        "#Generator of Lorentz rotation for lambda(y)        \n",
        "\n",
        "r1 = i*(diff(Ay,t))\n",
        "f = -i*t*r1\n",
        "Lorentz2 = simplify(exp(f))\n",
        "pprint((\" Generators of Lorentz rotation for lambda(y): {}\".format(Lorentz2)))\n",
        "\n",
        "#Generator of Lorentz rotation for lambda(z)\n",
        "print('\\n')          \n",
        "\n",
        "r3 = i*(diff(Az,t))\n",
        "f = -i*t*r3\n",
        "Lorentz3 = simplify(exp(f))\n",
        "G = R.evalf()\n",
        "pprint((\" Generators of Lorentz rotation for lambda(Z): \",Lorentz1 ))"
      ],
      "metadata": {
        "colab": {
          "base_uri": "https://localhost:8080/"
        },
        "id": "RlvYOimCyg_J",
        "outputId": "5f59b7a6-64f2-47c2-f709-795b8910a773"
      },
      "execution_count": 35,
      "outputs": [
        {
          "output_type": "stream",
          "name": "stdout",
          "text": [
            " Generators of Lorentz rotation for lambda(x): Matrix([[exp(phi)/2 + exp(-phi)\n",
            "/2, 0, 0, -exp(phi)/2 + exp(-phi)/2], [0, 1, 0, 0], [0, 0, 1, 0], [-exp(phi)/2\n",
            " + exp(-phi)/2, 0, 0, exp(phi)/2 + exp(-phi)/2]])\n",
            " Generators of Lorentz rotation for lambda(y): Matrix([[1, 0, 0, 0], [0, exp(I\n",
            "**2*theta*sin(theta))*cos(I**2*theta*cos(theta)), 0, exp(I**2*theta*sin(theta)\n",
            ")*sin(I**2*theta*cos(theta))], [0, 0, 1, 0], [0, -exp(I**2*theta*sin(theta))*s\n",
            "in(I**2*theta*cos(theta)), 0, exp(I**2*theta*sin(theta))*cos(I**2*theta*cos(th\n",
            "eta))]])\n",
            "\n",
            "\n",
            "⎛                                                 ⎡1  0                0      \n",
            "⎜                                                 ⎢                           \n",
            "⎜                                                 ⎢0  1                0      \n",
            "⎜                                                 ⎢                           \n",
            "⎜                                                 ⎢        2                  \n",
            "⎜ Generators of Lorentz rotation for lambda(Z): , ⎢       I ⋅θ⋅sin(θ)    ⎛ 2  \n",
            "⎜                                                 ⎢0  0  ℯ           ⋅cos⎝I ⋅θ\n",
            "⎜                                                 ⎢                           \n",
            "⎜                                                 ⎢         2                 \n",
            "⎜                                                 ⎢        I ⋅θ⋅sin(θ)    ⎛ 2 \n",
            "⎝                                                 ⎣0  0  -ℯ           ⋅sin⎝I ⋅\n",
            "\n",
            "                         0              ⎤⎞\n",
            "                                        ⎥⎟\n",
            "                         0              ⎥⎟\n",
            "                                        ⎥⎟\n",
            "             2                          ⎥⎟\n",
            "       ⎞    I ⋅θ⋅sin(θ)    ⎛ 2         ⎞⎥⎟\n",
            "⋅cos(θ)⎠   ℯ           ⋅sin⎝I ⋅θ⋅cos(θ)⎠⎥⎟\n",
            "                                        ⎥⎟\n",
            "             2                          ⎥⎟\n",
            "        ⎞   I ⋅θ⋅sin(θ)    ⎛ 2         ⎞⎥⎟\n",
            "θ⋅cos(θ)⎠  ℯ           ⋅cos⎝I ⋅θ⋅cos(θ)⎠⎦⎠\n"
          ]
        }
      ]
    },
    {
      "cell_type": "markdown",
      "metadata": {
        "id": "1WJx1IGgRh5r"
      },
      "source": [
        "**(c)** Show that the Lorentz group is closed by multiplying two boosts in the $x$ direction for the two rapidities $\\phi_{1}$ and $\\phi_{2}$. **(2 points)**"
      ]
    },
    {
      "cell_type": "code",
      "execution_count": 26,
      "metadata": {
        "id": "OGFgLChJq92Y",
        "colab": {
          "base_uri": "https://localhost:8080/"
        },
        "outputId": "2478b02a-5ef3-4ec9-edde-48a34d5b8b77"
      },
      "outputs": [
        {
          "output_type": "stream",
          "name": "stdout",
          "text": [
            "Matrix([[gamma*phi1, -beta*gamma*phi1, 0, 0], [-beta*gamma*phi1, gamma*phi1, 0, 0], [0, 0, phi1, 0], [0, 0, 0, phi1]])\n",
            "\n",
            "\n",
            "\n",
            "\n",
            "Matrix([[gamma*phi2, -beta*gamma*phi2, 0, 0], [-beta*gamma*phi2, gamma*phi2, 0, 0], [0, 0, phi2, 0], [0, 0, 0, phi2]])\n",
            "\n",
            "\n",
            "\n",
            "\n",
            "Multiplying the two Lorenzt boots along the x-direction one such that\n",
            "\n",
            "\n",
            "⎡ 2 ⎛ 2    ⎞          2        ⎤\n",
            "⎢γ ⋅⎝β  + 1⎠    -2⋅β⋅γ     0  0⎥\n",
            "⎢                              ⎥\n",
            "⎢        2     2 ⎛ 2    ⎞      ⎥\n",
            "⎢  -2⋅β⋅γ     γ ⋅⎝β  + 1⎠  0  0⎥\n",
            "⎢                              ⎥\n",
            "⎢     0            0       1  0⎥\n",
            "⎢                              ⎥\n",
            "⎣     0            0       0  1⎦\n",
            "⎡ γ⋅(φ₁ + φ₂)    -β⋅γ⋅(φ₁ + φ₂)     0        0   ⎤\n",
            "⎢                                                ⎥\n",
            "⎢-β⋅γ⋅(φ₁ + φ₂)   γ⋅(φ₁ + φ₂)       0        0   ⎥\n",
            "⎢                                                ⎥\n",
            "⎢      0               0         φ₁ + φ₂     0   ⎥\n",
            "⎢                                                ⎥\n",
            "⎣      0               0            0     φ₁ + φ₂⎦\n"
          ]
        }
      ],
      "source": [
        "# your solution solution to 1. (c) here !!\n",
        "import sympy as sp\n",
        "from sympy.core.function import Lambda\n",
        "from sympy import diff, exp\n",
        "from sympy.abc import i,f,a,b,G\n",
        "from sympy import Symbol,diff, exp, simplify, Matrix,pprint,init_printing,sin,cos\n",
        "\n",
        "#Defining our variables\n",
        "g = Symbol('gamma')\n",
        "b = Symbol('beta')\n",
        "a = Symbol('alpha')\n",
        "t = Symbol('theta')\n",
        "p1 = Symbol('phi1')\n",
        "p2 = Symbol('phi2')\n",
        "i = I\n",
        "Lambda = Symbol('Lambda')\n",
        "Lambda1 = Symbol('Lambda1')\n",
        "\n",
        "#The Lorenzt transformation for the x-direction\n",
        "Lambda = Matrix([[g,-g*b,0,0],[-b*g,g,0,0],  [0,0,1,0],[0,0,0,1]])\n",
        "\n",
        "#We define the variable for computation\n",
        "Rapidities = simplify(Lambda*p1)\n",
        "print(Rapidities)\n",
        "print('\\n')\n",
        " \n",
        "\n",
        "#The Lorenzt transformation for y-direction\n",
        "Lambda1 = Matrix([[g,-g*b,0,0],[-b*g,g,0,0], [0,0,1,0],  [0,0,0,1]])\n",
        "\n",
        "\n",
        "#pprint(simplify(Lambda(p1)*Lambda(p2) = Lambda(p1 + p2)))\n",
        "\n",
        "\n",
        "Rapidities=simplify(Lambda*p2)\n",
        "print('\\n')\n",
        "print(Rapidities)\n",
        "print('\\n')\n",
        "print(\"\\n\")\n",
        "print(\"Multiplying the two Lorenzt boots along the x-direction one such that\")\n",
        "print(\"\\n\")\n",
        "pprint(simplify(Lambda*Lambda1))\n",
        "pprint(simplify(Lambda*(p1 + p2)))"
      ]
    },
    {
      "cell_type": "markdown",
      "metadata": {
        "id": "HIYRU_bjUITZ"
      },
      "source": [
        "# Question 2 Lorentz Transformation of the Field Strength Tensor **(10 points)**\n",
        "\n"
      ]
    },
    {
      "cell_type": "markdown",
      "metadata": {
        "id": "bvhvEPMwTl-X"
      },
      "source": [
        "**Note:** Use the Sympy simplify() function for this question when printing the final output of a computation!!"
      ]
    },
    {
      "cell_type": "markdown",
      "metadata": {
        "id": "7n1IHV_UVXql"
      },
      "source": [
        "In this exercise we shall implement the Lorentz Transformation of the tensor $F^{\\mu\\nu}$. We can start by recalling the general Lorentz transformation for a $(p,q)$-tensor. We define a $(p,q)$-tensor as a tensor with $p$ contravariant indicies and $q$ covariant indicies an example of this would be, $T^{\\mu_{1}\\mu_{2}...\\mu_{p}}_{\\hspace{15mm}\\nu_{1}\\nu_{2}...\\nu_{q}}$. Now we say that that a $(p,q)$-tensor that depends on the 4 vector $x$ transforms under a Lorentz transformation $\\Lambda$ as follows,\n",
        "\n",
        "$$T^{\\mu_{1}\\mu_{2}...\\mu_{p}}_{\\hspace{15mm}\\nu_{1}\\nu_{2}...\\nu_{q}} \\xrightarrow{\\Lambda} (T')^{\\mu_{1}\\mu_{2}...\\mu_{p}}_{\\hspace{15mm}\\nu_{1}\\nu_{2}...\\nu_{q}}(x')=\\Lambda^{\\mu_{1}}_{\\hspace{3mm}\\rho_{1}}...\\Lambda^{\\mu_{p}}_{\\hspace{3mm}\\rho_{p}}(\\Lambda^{-1})^{\\sigma_{1}}_{\\hspace{3mm}\\nu_{1}}...(\\Lambda^{-1})^{\\sigma_{q}}_{\\hspace{3mm}\\nu_{q}}T^{\\rho_{1}\\rho_{2}...\\rho_{p}}_{\\hspace{15mm}\\sigma_{1}\\sigma_{2}...\\sigma_{q}}(x). $$\n",
        "\n",
        "Using this transformation Law answer the following questions.\n",
        "\n",
        "**(a)** Define the field strength tensor $F^{\\mu\\nu}$ as a sympy matrix using the symbols $E_{1}=E_{x}$, $E_{2}=E_{y}$ and so on. **(2 points)**"
      ]
    },
    {
      "cell_type": "code",
      "execution_count": null,
      "metadata": {
        "id": "3zzT-9e1T3xo",
        "colab": {
          "base_uri": "https://localhost:8080/",
          "height": 98
        },
        "outputId": "18c9c517-3476-4182-bce1-268482ebc428"
      },
      "outputs": [
        {
          "output_type": "execute_result",
          "data": {
            "text/plain": [
              "Matrix([\n",
              "[ 0, -Ex, -Ey, -Ez],\n",
              "[Ex,   0, -Bz,  By],\n",
              "[Ey,  Bz,   0, -Bx],\n",
              "[Ez, -By,  Bx,   0]])"
            ],
            "text/latex": "$\\displaystyle \\left[\\begin{matrix}0 & - Ex & - Ey & - Ez\\\\Ex & 0 & - Bz & By\\\\Ey & Bz & 0 & - Bx\\\\Ez & - By & Bx & 0\\end{matrix}\\right]$"
          },
          "metadata": {},
          "execution_count": 94
        }
      ],
      "source": [
        "# your solution to 2. (a) here!!\n",
        "import sympy as sp \n",
        "from sympy.abc import i\n",
        "from sympy import Symbol, exp, simplify, Matrix,pprint,init_printing\n",
        "\n",
        "\n",
        "#Defining variables\n",
        "E1 = Symbol('Ex')\n",
        "E2 = Symbol('Ey')\n",
        "E3 = Symbol('Ez')\n",
        "B1 = Symbol('Bx')\n",
        "B2 = Symbol('By')\n",
        "B3 = Symbol('Bz')\n",
        "v = Symbol('velocity')\n",
        "m = Symbol('Mu')\n",
        "\n",
        "\n",
        "\n",
        "#Defining the field strength tensor  Fμν  \n",
        "F = sp.Function('f')\n",
        "F = sp.Matrix([[0, -E1, -E2 , -E3],\n",
        "                [E1, 0, -B3, B2], \n",
        "                [E2, B3, 0, -B1],\n",
        "                [E3, -B2, B1, 0]])\n",
        "F"
      ]
    },
    {
      "cell_type": "markdown",
      "metadata": {
        "id": "FUw0K_opZxzm"
      },
      "source": [
        "**(b)** Using the definition of the field strength tensor above calculate using sympy the Lorentz transformation of $F^{\\mu\\nu}$ under a boost in the (i) $x$ direction and (ii) for a boost in the $y$ direction.\n",
        "\n",
        "Hint: The matrix for a boost in the $y$ direction can be obtained from question 1 (a). **(4 points)**"
      ]
    },
    {
      "cell_type": "code",
      "execution_count": 17,
      "metadata": {
        "id": "EEpe1AI3Y0lX",
        "colab": {
          "base_uri": "https://localhost:8080/"
        },
        "outputId": "0afff497-bdeb-4583-f5dc-1d741e2734b0"
      },
      "outputs": [
        {
          "output_type": "stream",
          "name": "stdout",
          "text": [
            "\n",
            "\n",
            "\n",
            "\n",
            "⎡   ⎛   φ    -φ⎞       ⎛ φ    -φ⎞        ⎛   φ    -φ⎞      ⎛ φ    -φ⎞     ⎛   \n",
            "⎢   ⎜  ℯ    ℯ  ⎟       ⎜ℯ    ℯ  ⎟        ⎜  ℯ    ℯ  ⎟      ⎜ℯ    ℯ  ⎟     ⎜  ℯ\n",
            "⎢Ex⋅⎜- ── + ───⎟   -Ex⋅⎜── + ───⎟   - Bz⋅⎜- ── + ───⎟ - Ey⋅⎜── + ───⎟  By⋅⎜- ─\n",
            "⎢   ⎝  2     2 ⎠       ⎝2     2 ⎠        ⎝  2     2 ⎠      ⎝2     2 ⎠     ⎝  2\n",
            "⎢                                                                             \n",
            "⎢    ⎛ φ    -φ⎞       ⎛   φ    -φ⎞       ⎛ φ    -φ⎞      ⎛   φ    -φ⎞     ⎛ φ \n",
            "⎢    ⎜ℯ    ℯ  ⎟       ⎜  ℯ    ℯ  ⎟       ⎜ℯ    ℯ  ⎟      ⎜  ℯ    ℯ  ⎟     ⎜ℯ  \n",
            "⎢ Ex⋅⎜── + ───⎟   -Ex⋅⎜- ── + ───⎟  - Bz⋅⎜── + ───⎟ - Ey⋅⎜- ── + ───⎟  By⋅⎜── \n",
            "⎢    ⎝2     2 ⎠       ⎝  2     2 ⎠       ⎝2     2 ⎠      ⎝  2     2 ⎠     ⎝2  \n",
            "⎢                                                                             \n",
            "⎢      Ey                Bz                         0                         \n",
            "⎢                                                                             \n",
            "⎣      Ez               -By                        Bx                         \n",
            "\n",
            "φ    -φ⎞      ⎛ φ    -φ⎞⎤\n",
            "    ℯ  ⎟      ⎜ℯ    ℯ  ⎟⎥\n",
            "─ + ───⎟ - Ez⋅⎜── + ───⎟⎥\n",
            "     2 ⎠      ⎝2     2 ⎠⎥\n",
            "                        ⎥\n",
            "   -φ⎞      ⎛   φ    -φ⎞⎥\n",
            "  ℯ  ⎟      ⎜  ℯ    ℯ  ⎟⎥\n",
            "+ ───⎟ - Ez⋅⎜- ── + ───⎟⎥\n",
            "   2 ⎠      ⎝  2     2 ⎠⎥\n",
            "                        ⎥\n",
            "       -Bx              ⎥\n",
            "                        ⎥\n",
            "        0               ⎦\n"
          ]
        }
      ],
      "source": [
        "#your solution to 2. (b) (i) here!!\n",
        "\n",
        "import sympy as sp\n",
        "from sympy.core.function import Lambda\n",
        "from sympy.abc import i,f,a,b\n",
        "from sympy import Symbol, exp, simplify, Matrix,pprint,init_printing\n",
        "\n",
        "#Defining our variables\n",
        "g = Symbol('gamma')\n",
        "b = Symbol('beta')\n",
        "p = Symbol('phi')\n",
        "i = I\n",
        "\n",
        "#Define variables of the electric and magnetic field\n",
        "E1 = Symbol('Ex')\n",
        "E2 = Symbol('Ey')\n",
        "E3 = Symbol('Ez')\n",
        "B1 = Symbol('Bx')\n",
        "B2 = Symbol('By')\n",
        "B3 = Symbol('Bz')\n",
        "\n",
        "#Definition of the field strength tensor\n",
        "F = sp.Matrix([[0, -E1, -E2 , -E3],[E1, 0, -B3, B2], [E2, B3, 0, -B1], [E3, -B2, B1, 0]])\n",
        "\n",
        "#Boost for x direction\n",
        "Boost = Matrix([[0,-i,0,0], [-i,0,0,0],[0,0,0,0], [0,0,0,0]])\n",
        "\n",
        "#Finding the boost in the x direction    \n",
        "f = -i*p*Boost\n",
        "Lambda = exp(f)\n",
        "equation = Lambda*F \n",
        "\n",
        "print(\"\\n\")\n",
        "print('\\n')         \n",
        "pprint((equation))\n"
      ]
    },
    {
      "cell_type": "code",
      "execution_count": 18,
      "metadata": {
        "id": "EqRPIt_ybIKE",
        "colab": {
          "base_uri": "https://localhost:8080/"
        },
        "outputId": "69e3f6af-ba57-4d60-c047-006e445585a6"
      },
      "outputs": [
        {
          "output_type": "stream",
          "name": "stdout",
          "text": [
            "⎡   ⎛   φ    -φ⎞     ⎛   φ    -φ⎞      ⎛ φ    -φ⎞       ⎛ φ    -φ⎞        ⎛   \n",
            "⎢   ⎜  ℯ    ℯ  ⎟     ⎜  ℯ    ℯ  ⎟      ⎜ℯ    ℯ  ⎟       ⎜ℯ    ℯ  ⎟        ⎜  ℯ\n",
            "⎢Ey⋅⎜- ── + ───⎟  Bz⋅⎜- ── + ───⎟ - Ex⋅⎜── + ───⎟   -Ey⋅⎜── + ───⎟   - Bx⋅⎜- ─\n",
            "⎢   ⎝  2     2 ⎠     ⎝  2     2 ⎠      ⎝2     2 ⎠       ⎝2     2 ⎠        ⎝  2\n",
            "⎢                                                                             \n",
            "⎢      Ex                        0                       -Bz                  \n",
            "⎢                                                                             \n",
            "⎢    ⎛ φ    -φ⎞      ⎛ φ    -φ⎞      ⎛   φ    -φ⎞      ⎛   φ    -φ⎞       ⎛ φ \n",
            "⎢    ⎜ℯ    ℯ  ⎟      ⎜ℯ    ℯ  ⎟      ⎜  ℯ    ℯ  ⎟      ⎜  ℯ    ℯ  ⎟       ⎜ℯ  \n",
            "⎢ Ey⋅⎜── + ───⎟   Bz⋅⎜── + ───⎟ - Ex⋅⎜- ── + ───⎟  -Ey⋅⎜- ── + ───⎟  - Bx⋅⎜── \n",
            "⎢    ⎝2     2 ⎠      ⎝2     2 ⎠      ⎝  2     2 ⎠      ⎝  2     2 ⎠       ⎝2  \n",
            "⎢                                                                             \n",
            "⎣      Ez                       -By                       Bx                  \n",
            "\n",
            "φ    -φ⎞      ⎛ φ    -φ⎞⎤\n",
            "    ℯ  ⎟      ⎜ℯ    ℯ  ⎟⎥\n",
            "─ + ───⎟ - Ez⋅⎜── + ───⎟⎥\n",
            "     2 ⎠      ⎝2     2 ⎠⎥\n",
            "                        ⎥\n",
            "      By                ⎥\n",
            "                        ⎥\n",
            "   -φ⎞      ⎛   φ    -φ⎞⎥\n",
            "  ℯ  ⎟      ⎜  ℯ    ℯ  ⎟⎥\n",
            "+ ───⎟ - Ez⋅⎜- ── + ───⎟⎥\n",
            "   2 ⎠      ⎝  2     2 ⎠⎥\n",
            "                        ⎥\n",
            "       0                ⎦\n"
          ]
        }
      ],
      "source": [
        "#you solution to 2. (b) (ii) here !!\n",
        "import sympy as sp\n",
        "from sympy.core.function import Lambda\n",
        "from sympy.abc import i,f,a,b\n",
        "from sympy import Symbol, exp, simplify, Matrix,pprint,init_printing\n",
        "\n",
        "#Defining our variables\n",
        "g = Symbol('gamma')\n",
        "b = Symbol('beta')\n",
        "p = Symbol('phi')\n",
        "i = I\n",
        "\n",
        "#Define variables of the electric and magnetic field\n",
        "E1 = Symbol('Ex')\n",
        "E2 = Symbol('Ey')\n",
        "E3 = Symbol('Ez')\n",
        "B1 = Symbol('Bx')\n",
        "B2 = Symbol('By')\n",
        "B3 = Symbol('Bz')\n",
        "\n",
        "#Definition of the field strength tensor\n",
        "F = sp.Matrix([[0, -E1, -E2 , -E3],[E1, 0, -B3, B2], [E2, B3, 0, -B1], [E3, -B2, B1, 0]])\n",
        "\n",
        "#Boost for x direction\n",
        "Boost = Matrix([[0,0,-i,0],[0,0,0,0],[-i,0,0,0], [0,0,0,0]])\n",
        "\n",
        "#Finding the boost in the y direction\n",
        "f = -i*p*Boost\n",
        "Lambda = exp(f)\n",
        "equation = Lambda*F\n",
        "#print('\\n')          \n",
        "pprint((equation))\n",
        "\n",
        "\n",
        "\n"
      ]
    },
    {
      "cell_type": "markdown",
      "metadata": {
        "id": "TX--pjQPdO-y"
      },
      "source": [
        "**(c)** Calculate the transformed field strength tensor $F_{\\mu\\nu}$ after a boost in the z direction. **(4 points)**\n",
        "\n",
        "Hint: First transform the tensor $F^{\\mu\\nu}$ and then lower the indicies using the metric $\\eta=\\mathrm{diag}(+1,-1,-1,-1)$. You can find the matrix for a boost in the z direction from question 1 (a)."
      ]
    },
    {
      "cell_type": "code",
      "execution_count": 9,
      "metadata": {
        "id": "7nJhr8L2dMNF",
        "colab": {
          "base_uri": "https://localhost:8080/"
        },
        "outputId": "05e4c76a-f6d8-45cc-a808-86b424035f70"
      },
      "outputs": [
        {
          "output_type": "stream",
          "name": "stdout",
          "text": [
            "The transformed Field strength tensor: \n",
            " \n",
            "⎡           0                         Ex             -Bz⋅sinh(φ) + Ey⋅cosh(φ) \n",
            "⎢                                                                             \n",
            "⎢           Ex                        0              Bz⋅cosh(φ) - Ey⋅sinh(φ)  \n",
            "⎢                                                                             \n",
            "⎢-Bz⋅sinh(φ) + Ey⋅cosh(φ)  -Bz⋅cosh(φ) + Ey⋅sinh(φ)             0             \n",
            "⎢                                                                             \n",
            "⎣By⋅sinh(φ) + Bz⋅cosh(φ)   By⋅cosh(φ) + Bz⋅sinh(φ)             -Bx            \n",
            "\n",
            " By⋅sinh(φ) + Bz⋅cosh(φ) ⎤\n",
            "                         ⎥\n",
            " -By⋅cosh(φ) - Bz⋅sinh(φ)⎥\n",
            "                         ⎥\n",
            "            Bx           ⎥\n",
            "                         ⎥\n",
            "            0            ⎦\n",
            "\n",
            "\n",
            "The transformed field strength tensor in the z direction : \n",
            " \n",
            "⎡                                     ⎛   ⎛ 2⋅φ    ⎞                          \n",
            "⎢                                     ⎝Ex⋅⎝ℯ    + 1⎠ - (By⋅cosh(φ) + Bz⋅sinh(φ\n",
            "⎢-(By⋅sinh(φ) + Bz⋅cosh(φ))⋅sinh(φ)   ────────────────────────────────────────\n",
            "⎢                                                                 2           \n",
            "⎢                                                                             \n",
            "⎢                Ex                                               0           \n",
            "⎢                                                                             \n",
            "⎢     -Bz⋅sinh(φ) + Ey⋅cosh(φ)                         -Bz⋅cosh(φ) + Ey⋅sinh(φ\n",
            "⎢                                                                             \n",
            "⎢                                    ⎛     ⎛ 2⋅φ    ⎞                         \n",
            "⎢                                    ⎝- Ex⋅⎝ℯ    - 1⎠ + (By⋅cosh(φ) + Bz⋅sinh(\n",
            "⎢(By⋅sinh(φ) + Bz⋅cosh(φ))⋅cosh(φ)   ─────────────────────────────────────────\n",
            "⎣                                                                 2           \n",
            "\n",
            "   ⎛ 2⋅φ    ⎞⎞  -φ    ⎛   ⎛ 2⋅φ    ⎞                             ⎛ 2⋅φ    ⎞⎞  \n",
            "))⋅⎝ℯ    - 1⎠⎠⋅ℯ      ⎝Bx⋅⎝ℯ    - 1⎠ - (Bz⋅sinh(φ) - Ey⋅cosh(φ))⋅⎝ℯ    + 1⎠⎠⋅ℯ\n",
            "──────────────────    ────────────────────────────────────────────────────────\n",
            "                                                  2                           \n",
            "                                                                              \n",
            "                                       Bz⋅cosh(φ) - Ey⋅sinh(φ)                \n",
            "                                                                              \n",
            ")                                                 0                           \n",
            "                                                                              \n",
            "    ⎛ 2⋅φ    ⎞⎞  -φ   ⎛   ⎛ 2⋅φ    ⎞                             ⎛ 2⋅φ    ⎞⎞  \n",
            "φ))⋅⎝ℯ    + 1⎠⎠⋅ℯ    -⎝Bx⋅⎝ℯ    + 1⎠ - (Bz⋅sinh(φ) - Ey⋅cosh(φ))⋅⎝ℯ    - 1⎠⎠⋅ℯ\n",
            "───────────────────  ─────────────────────────────────────────────────────────\n",
            "                                                  2                           \n",
            "\n",
            "-φ                                     ⎤\n",
            "                                       ⎥\n",
            "──   (By⋅sinh(φ) + Bz⋅cosh(φ))⋅cosh(φ) ⎥\n",
            "                                       ⎥\n",
            "                                       ⎥\n",
            "          -By⋅cosh(φ) - Bz⋅sinh(φ)     ⎥\n",
            "                                       ⎥\n",
            "                     Bx                ⎥\n",
            "                                       ⎥\n",
            "-φ                                     ⎥\n",
            "                                       ⎥\n",
            "───  -(By⋅sinh(φ) + Bz⋅cosh(φ))⋅sinh(φ)⎥\n",
            "                                       ⎦\n"
          ]
        }
      ],
      "source": [
        "#your solution to 2. (c) here !!\n",
        "import sympy as sp\n",
        "from sympy.abc import i,a,b\n",
        "from sympy import Symbol, Matrix, simplify , I, pprint ,det ,diff ,exp ,sinh ,cosh ,cos ,sin \n",
        "\n",
        "#Define our variables\n",
        "t= Symbol('theta')\n",
        "p = Symbol('phi')\n",
        "r = Symbol('rho')\n",
        "g = Symbol('gamma')\n",
        "b = Symbol('beta')\n",
        "a = Symbol('alpha')\n",
        "i = I\n",
        "\n",
        "#Defining the electric and magnetic variables\n",
        "Ex = Symbol('Ex')\n",
        "Ey = Symbol('Ey')\n",
        "Ez = Symbol('Bz')\n",
        "Bx = Symbol('Bx')\n",
        "By = Symbol('By')\n",
        "Bz = Symbol('Bz')\n",
        "\n",
        "\n",
        "#This is the matrix transform\n",
        "F = Matrix([[0 , -Ex  , Bz*sinh(p) - Ey*cosh(p) , -By*sinh(p)-Ez*cosh(p) ],\n",
        "            [Ex , 0 , -Bz*cosh(p) + Ey*sinh(p) , By*cosh(p) + Ez*sinh(p) ],\n",
        "            [-Bz*sinh(p) + Ey*cosh(p) , Bz*cosh(p) - Ey*sinh(p) , 0 , -Bx ],\n",
        "            [By*sinh(p) + Ez*cosh(p) , -By*cosh(p) - Ez*sinh(p) , Bx , 0  ]])\n",
        "\n",
        "\n",
        "# η=diag(+1,−1,−1,−1) \n",
        "Diagonal = Matrix([[1 ,0 ,0 ,0 ],[0 ,-1 ,0 ,0 ],[0 ,0 ,-1 ,0 ],[0 ,0 ,0 ,-1 ]])\n",
        "\n",
        "#You can find the matrix for a boost in the z direction from question 1 (a).\n",
        "Boost =Matrix([[0 , 0 ,  0, -i ],[0  , 0 , 0 , 0],[0  , 0 , 0 , 0], [-i , 0 , 0  , 0 ]])\n",
        "\n",
        "#First transform the tensor  Fμν  and then lower the indicies using the metric  η=diag(+1,−1,−1,−1) .\n",
        "Lorentz = exp(-i*p*Boost)\n",
        "\n",
        "#This is for the lower indice\n",
        "Transformed_field_strength_tensor  = F*Diagonal\n",
        "\n",
        "print('The transformed Field strength tensor: \\n ')\n",
        "pprint(simplify(Transformed_field_strength_tensor ))\n",
        "print('\\n')\n",
        "\n",
        "#You can find the matrix for a boost in the z direction from question 1 (a).\n",
        "Transformed_field = Lorentz*Transformed_field_strength_tensor \n",
        "print(\"The transformed field strength tensor in the z direction : \\n \")\n",
        "pprint(simplify(Transformed_field))\n"
      ]
    },
    {
      "cell_type": "markdown",
      "metadata": {
        "id": "KJMCZw0edZqd"
      },
      "source": [
        "# Question 3 The Relativistic Dopler Effect **(5 points)**\n",
        "\n"
      ]
    },
    {
      "cell_type": "markdown",
      "metadata": {
        "id": "H-HO_8k7Tl-Z"
      },
      "source": [
        "**Note:** DO **NOT** Use the Sympy simplify() function for this question when printing the final output of a computation!!"
      ]
    },
    {
      "cell_type": "markdown",
      "metadata": {
        "id": "cgnwwCs8dwTe"
      },
      "source": [
        "Consider a plane wave propagating in the $x$ direction described by the wave 4 vector,\n",
        "\n",
        "$$k^{\\mu}=(\\frac{\\omega}{c},k,0,0)=(k,k,0,0)$$\n",
        "\n",
        "**(a)** Calculate the new wave 4 vector after a Lorentz boost in the $x$ direction. For the Lorentz boost along the $x$ axis use the following matrix for this question and the 3 (b). **(2 points)**\n",
        "\n",
        "$$(\\Lambda_{x}^{(\\mathrm{boost})})^{\\mu}_{\\hspace{2mm}\\nu}=\\begin{pmatrix}\n",
        "\\gamma & -\\beta\\gamma & 0 & 0\\\\\n",
        "-\\beta\\gamma & \\gamma & 0 & 0\\\\\n",
        "0 & 0 & 1 & 0\\\\\n",
        "0 & 0 & 0 & 1\n",
        "\\end{pmatrix}$$\n",
        "\n",
        "with $\\beta=\\frac{v}{c}$ and $\\gamma=\\frac{1}{\\sqrt{1-\\beta^{2}}}$."
      ]
    },
    {
      "cell_type": "code",
      "execution_count": 5,
      "metadata": {
        "id": "WSeJv0IveGzk",
        "colab": {
          "base_uri": "https://localhost:8080/"
        },
        "outputId": "e7aa4c2f-f660-411a-c5dd-084d10a15a53"
      },
      "outputs": [
        {
          "output_type": "stream",
          "name": "stdout",
          "text": [
            "⎡      k                k⋅v       ⎤\n",
            "⎢────────────── - ────────────────⎥\n",
            "⎢      ________           ________⎥\n",
            "⎢     ╱      2           ╱      2 ⎥\n",
            "⎢    ╱      v           ╱      v  ⎥\n",
            "⎢   ╱   1 - ──    c⋅   ╱   1 - ── ⎥\n",
            "⎢  ╱         2        ╱         2 ⎥\n",
            "⎢╲╱         c       ╲╱         c  ⎥\n",
            "⎢                                 ⎥\n",
            "⎢      k                k⋅v       ⎥\n",
            "⎢────────────── - ────────────────⎥\n",
            "⎢      ________           ________⎥\n",
            "⎢     ╱      2           ╱      2 ⎥\n",
            "⎢    ╱      v           ╱      v  ⎥\n",
            "⎢   ╱   1 - ──    c⋅   ╱   1 - ── ⎥\n",
            "⎢  ╱         2        ╱         2 ⎥\n",
            "⎢╲╱         c       ╲╱         c  ⎥\n",
            "⎢                                 ⎥\n",
            "⎢                0                ⎥\n",
            "⎢                                 ⎥\n",
            "⎣                0                ⎦\n"
          ]
        }
      ],
      "source": [
        "# your solution to 3 (a) here !!\n",
        "import sympy as sp\n",
        "from sympy.abc import i,f,a,b\n",
        "from sympy import Symbol, Matrix , simplify , pprint ,I , sqrt, det , diff , exp , cos , sin , sinh , cosh \n",
        "\n",
        "#Defining the variables\n",
        "t = Symbol('theta')\n",
        "p = Symbol('phi')\n",
        "r = Symbol('rho')\n",
        "g = Symbol('gamma')\n",
        "b = Symbol('beta')\n",
        "a = Symbol('alpha')\n",
        "m = Symbol('mu')\n",
        "n = Symbol('nu')\n",
        "k = Symbol('k')\n",
        "v = Symbol('v')\n",
        "c = Symbol('c')\n",
        "i = I\n",
        "\n",
        "#Here we define the electric and magnetic field\n",
        "Ex = Symbol('Ex')\n",
        "Ey = Symbol('Ey')\n",
        "Ez = Symbol('Bz')\n",
        "Bx = Symbol('Bx')\n",
        "By = Symbol('By')\n",
        "Bz = Symbol('Bz')\n",
        "\n",
        "#Define the  beta and gamma\n",
        "b = v/c\n",
        "g = 1/(sqrt(1-b**2))\n",
        "\n",
        "#We consider a plane wave propagating in the  x  direction described by the wave 4 vector \n",
        "#Calculate the new wave 4 vector after a Lorentz boost in the  x  direction\n",
        "k_u=Matrix([k,k,0,0])\n",
        "Lorentz = Matrix(( [g , -b*g ,0 ,0 ],[-b*g , g ,0 ,0 ],[0 ,0 ,1 ,0 ],[0 , 0, 0, 1]])\n",
        "\n",
        "The_new_wave_4_vector = Lorentz*k_u\n",
        "\n",
        "pprint(The_new_wave_4_vector)\n"
      ]
    },
    {
      "cell_type": "markdown",
      "metadata": {
        "id": "BHzniQ02hKZX"
      },
      "source": [
        "**(b)** By using the definition of the Field strength tensor from question 2 to answer the following question. Let us assume that the components of the electric and magnetic field are $\\vec{E}=(0,E,0)$ and $\\vec{B}=(0,0,B)$ calculate what would be the components of the electric and magnetic field after a Lorentz boost in the $x$ direction. Hint: You can do this by substituting the components of the electric and magnetic field that are given in the question into the field strength tensor and then transform the resulting tensor with a Lorentz transformation which is a boost in the $x$ direction. **(3 points)**"
      ]
    },
    {
      "cell_type": "code",
      "execution_count": 8,
      "metadata": {
        "id": "p9iUj6NSfaMz",
        "colab": {
          "base_uri": "https://localhost:8080/"
        },
        "outputId": "f72760a1-68b2-48e7-f3af-05f44b2996ca"
      },
      "outputs": [
        {
          "output_type": "stream",
          "name": "stdout",
          "text": [
            "⎡  0      0     -E  0⎤\n",
            "⎢                    ⎥\n",
            "⎢  0      0     0   B⎥\n",
            "⎢                    ⎥\n",
            "⎢ E⋅γ   -E⋅β⋅γ  0   0⎥\n",
            "⎢                    ⎥\n",
            "⎣B⋅β⋅γ   -B⋅γ   0   0⎦\n"
          ]
        }
      ],
      "source": [
        "# your solution to 3. (b) here !!\n",
        "import sympy as sp\n",
        "from sympy.abc import i,f,a,b\n",
        "from sympy import Symbol ,Matrix ,simplify ,pprint, det ,diff ,exp  , I ,cos ,sin ,sinh ,cosh \n",
        "\n",
        "#Defining our variables \n",
        "t = Symbol('theta')\n",
        "p = Symbol('phi')\n",
        "r = Symbol('rho')\n",
        "i = I\n",
        "g = Symbol('gamma')\n",
        "b = Symbol('beta')\n",
        "a = Symbol('alpha')\n",
        "\n",
        "#Defining the electric and magnetic field energy variables\n",
        "B = Symbol('B')\n",
        "E = Symbol('E')\n",
        "Ex = Symbol('Ex')\n",
        "Ey = Symbol('Ey')\n",
        "Ez = Symbol('Bz')\n",
        "Bx = Symbol('Bx')\n",
        "By = Symbol('By')\n",
        "Bz = Symbol('Bz')\n",
        "\n",
        "\n",
        "#Lorentz boost in the  x  direction\n",
        "Lorentz = Matrix([[g  ,-b*g , 0 , 0 ],[-b*g , g ,0 ,0 ],[0 , 0 , 1 , 0 ],[0 , 0 , 0 , 1 ]])\n",
        "\n",
        "#We define the field strength tensor \n",
        "F = Matrix([[0 ,-Ex ,-Ey ,-Ez ],[Ex  ,0 ,-Bz ,By ],[Ey ,Bz ,0 ,-Bx ],[Ez ,-By ,Bx ,0 ]])\n",
        "\n",
        "\n",
        "\n",
        "#Here we will substitute the components of the electric and magnetic field \n",
        "#And we will  substitute both values in the above field strength tensor defined as F\n",
        "Field_strength_tensor = Matrix([[0 ,0 ,-E , 0], [0 ,0 ,0 ,B ],[E ,0 ,0 ,0 ],[0 ,-B ,0 ,0 ]])\n",
        "\n",
        "\n",
        "#Transform the resulting tensor with a Lorentz transformation which is a boost in the  x  direction\n",
        "#And compute then the components of E and B\n",
        "Resulting_tensor = Field_strength_tensor*Lorentz\n",
        "\n",
        "pprint(Resulting_tensor)\n"
      ]
    },
    {
      "cell_type": "code",
      "execution_count": null,
      "metadata": {
        "id": "40vgBtPxh4A3"
      },
      "outputs": [],
      "source": [
        ""
      ]
    }
  ],
  "metadata": {
    "colab": {
      "collapsed_sections": [],
      "name": "CFT_Part_b_Assignment (4) (1).ipynb",
      "provenance": [],
      "include_colab_link": true
    },
    "interpreter": {
      "hash": "c8402e2454e292aac28b1d7c228e252b7e3526dd8c407a10b6007f7713b5b71e"
    },
    "kernelspec": {
      "display_name": "Python 3.8.5 ('base')",
      "language": "python",
      "name": "python3"
    },
    "language_info": {
      "codemirror_mode": {
        "name": "ipython",
        "version": 3
      },
      "file_extension": ".py",
      "mimetype": "text/x-python",
      "name": "python",
      "nbconvert_exporter": "python",
      "pygments_lexer": "ipython3",
      "version": "3.8.5"
    }
  },
  "nbformat": 4,
  "nbformat_minor": 0
}