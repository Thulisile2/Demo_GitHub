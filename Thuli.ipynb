{
  "nbformat": 4,
  "nbformat_minor": 0,
  "metadata": {
    "colab": {
      "name": "Untitled1.ipynb",
      "provenance": [],
      "collapsed_sections": [],
      "authorship_tag": "ABX9TyPdiqehJHO4z7WGQ9dVKfH7",
      "include_colab_link": true
    },
    "kernelspec": {
      "name": "python3",
      "display_name": "Python 3"
    },
    "language_info": {
      "name": "python"
    }
  },
  "cells": [
    {
      "cell_type": "markdown",
      "metadata": {
        "id": "view-in-github",
        "colab_type": "text"
      },
      "source": [
        "<a href=\"https://colab.research.google.com/github/Thulisile2/Demo_GitHub/blob/main/Thuli.ipynb\" target=\"_parent\"><img src=\"https://colab.research.google.com/assets/colab-badge.svg\" alt=\"Open In Colab\"/></a>"
      ]
    },
    {
      "cell_type": "markdown",
      "source": [
        "Question 1\n"
      ],
      "metadata": {
        "id": "dwWrdKZHRIw6"
      }
    },
    {
      "cell_type": "code",
      "execution_count": 38,
      "metadata": {
        "colab": {
          "base_uri": "https://localhost:8080/"
        },
        "id": "IUoC3sgaLzjw",
        "outputId": "366d4a68-ca5e-4c85-e085-771be2ebe40e"
      },
      "outputs": [
        {
          "output_type": "stream",
          "name": "stdout",
          "text": [
            "Enter a number8\n",
            "PinkBlack\n"
          ]
        }
      ],
      "source": [
        "#function\n",
        "def myfunction(array,number):\n",
        "    if ((number % 5)==0 and (number % 3)==0):\n",
        "        print(array[0]+array[1])\n",
        "    elif((number % 5)==0):\n",
        "        print(array[1])\n",
        "    elif((number % 3)==0):\n",
        "        print(array[0])\n",
        "    else:\n",
        "        print(array[1]+array[0])\n",
        "#user input and array\n",
        "array=[\"Black\",\"Pink\"]\n",
        "number=int(input(\"Enter a number\"))\n",
        "myfunction(array,number)"
      ]
    },
    {
      "cell_type": "markdown",
      "source": [
        "Question 2"
      ],
      "metadata": {
        "id": "DNQfzgTLRDie"
      }
    },
    {
      "cell_type": "code",
      "source": [
        "import numpy as np\n",
        "import matplotlib.pyplot as plt\n",
        "\n",
        "\n",
        "myNumbers = list()\n",
        "\n",
        "is_float(myNumbers)\n",
        "\n",
        "#i = int(input(\"Enter number\"))\n",
        "\n",
        "while i = float(input(\"Enter number:\")\n",
        "    i = input(\"Enter number\")\n",
        "    for\n",
        "    if i == '*' :\n",
        "      break\n",
        "\n",
        "print(\"myNumbers:\")\n",
        "\n",
        "\n",
        "#myNumbers = float(input(\"Enter number:\"))\n",
        "myNumbers = input(\"Enter number:\")\n",
        "myNumbers = myNumbers.split()\n",
        "print(myNumbers)\n",
        "\n",
        "\n",
        "#myNumbers = int(input(\"Enter number: \"))\n",
        "#print('Type of myNumbers:',type(myNumbers))\n",
        "\n",
        "\n",
        "\n",
        "def is_float(myNumbers):\n",
        "    try :\n",
        "         float(myNumbers)\n",
        "         return True\n",
        "    except ValueError :\n",
        "         return False\n",
        "\n",
        "\n",
        "#print(\"Mean is{:.2f}\".format(np.mean(myNumbers)))\n",
        "print(np.mean(myNumbers))\n",
        "print(np.median(myNumbers))\n",
        "print(np.std(myNumbers))\n",
        "\n",
        "\n",
        "#generate random integer values\n",
        "#generate  random Gaussian values\n",
        "\n",
        "from random import seed\n",
        "from random import Gaussian\n",
        "\n",
        "np.hist=random.normal(loc=0,scale=1,size=10008)\n",
        "np_hist.mean()\n",
        "np_hist.std()\n",
        "\n",
        "x = np.hist\n",
        "plt.hist(x)\n",
        "plt.show"
      ],
      "metadata": {
        "id": "dfSH2L-URErc",
        "colab": {
          "base_uri": "https://localhost:8080/",
          "height": 450
        },
        "outputId": "c1d0ef3c-cfd4-4406-ec46-5a358da4649f"
      },
      "execution_count": null,
      "outputs": [
        {
          "output_type": "stream",
          "name": "stdout",
          "text": [
            "Enter number:5\n",
            "['5']\n"
          ]
        },
        {
          "output_type": "error",
          "ename": "TypeError",
          "evalue": "ignored",
          "traceback": [
            "\u001b[0;31m---------------------------------------------------------------------------\u001b[0m",
            "\u001b[0;31mTypeError\u001b[0m                                 Traceback (most recent call last)",
            "\u001b[0;32m<ipython-input-38-ae60d6672b6a>\u001b[0m in \u001b[0;36m<module>\u001b[0;34m()\u001b[0m\n\u001b[1;32m     24\u001b[0m \u001b[0;34m\u001b[0m\u001b[0m\n\u001b[1;32m     25\u001b[0m \u001b[0;31m#print(\"Mean is{:.2f}\".format(np.mean(myNumbers)))\u001b[0m\u001b[0;34m\u001b[0m\u001b[0;34m\u001b[0m\u001b[0;34m\u001b[0m\u001b[0m\n\u001b[0;32m---> 26\u001b[0;31m \u001b[0mprint\u001b[0m\u001b[0;34m(\u001b[0m\u001b[0mnp\u001b[0m\u001b[0;34m.\u001b[0m\u001b[0mmean\u001b[0m\u001b[0;34m(\u001b[0m\u001b[0mmyNumbers\u001b[0m\u001b[0;34m)\u001b[0m\u001b[0;34m)\u001b[0m\u001b[0;34m\u001b[0m\u001b[0;34m\u001b[0m\u001b[0m\n\u001b[0m\u001b[1;32m     27\u001b[0m \u001b[0mprint\u001b[0m\u001b[0;34m(\u001b[0m\u001b[0mnp\u001b[0m\u001b[0;34m.\u001b[0m\u001b[0mmedian\u001b[0m\u001b[0;34m(\u001b[0m\u001b[0mmyNumbers\u001b[0m\u001b[0;34m)\u001b[0m\u001b[0;34m)\u001b[0m\u001b[0;34m\u001b[0m\u001b[0;34m\u001b[0m\u001b[0m\n\u001b[1;32m     28\u001b[0m \u001b[0mprint\u001b[0m\u001b[0;34m(\u001b[0m\u001b[0mnp\u001b[0m\u001b[0;34m.\u001b[0m\u001b[0mstd\u001b[0m\u001b[0;34m(\u001b[0m\u001b[0mmyNumbers\u001b[0m\u001b[0;34m)\u001b[0m\u001b[0;34m)\u001b[0m\u001b[0;34m\u001b[0m\u001b[0;34m\u001b[0m\u001b[0m\n",
            "\u001b[0;32m<__array_function__ internals>\u001b[0m in \u001b[0;36mmean\u001b[0;34m(*args, **kwargs)\u001b[0m\n",
            "\u001b[0;32m/usr/local/lib/python3.7/dist-packages/numpy/core/fromnumeric.py\u001b[0m in \u001b[0;36mmean\u001b[0;34m(a, axis, dtype, out, keepdims, where)\u001b[0m\n\u001b[1;32m   3439\u001b[0m \u001b[0;34m\u001b[0m\u001b[0m\n\u001b[1;32m   3440\u001b[0m     return _methods._mean(a, axis=axis, dtype=dtype,\n\u001b[0;32m-> 3441\u001b[0;31m                           out=out, **kwargs)\n\u001b[0m\u001b[1;32m   3442\u001b[0m \u001b[0;34m\u001b[0m\u001b[0m\n\u001b[1;32m   3443\u001b[0m \u001b[0;34m\u001b[0m\u001b[0m\n",
            "\u001b[0;32m/usr/local/lib/python3.7/dist-packages/numpy/core/_methods.py\u001b[0m in \u001b[0;36m_mean\u001b[0;34m(a, axis, dtype, out, keepdims, where)\u001b[0m\n\u001b[1;32m    177\u001b[0m             \u001b[0mis_float16_result\u001b[0m \u001b[0;34m=\u001b[0m \u001b[0;32mTrue\u001b[0m\u001b[0;34m\u001b[0m\u001b[0;34m\u001b[0m\u001b[0m\n\u001b[1;32m    178\u001b[0m \u001b[0;34m\u001b[0m\u001b[0m\n\u001b[0;32m--> 179\u001b[0;31m     \u001b[0mret\u001b[0m \u001b[0;34m=\u001b[0m \u001b[0mumr_sum\u001b[0m\u001b[0;34m(\u001b[0m\u001b[0marr\u001b[0m\u001b[0;34m,\u001b[0m \u001b[0maxis\u001b[0m\u001b[0;34m,\u001b[0m \u001b[0mdtype\u001b[0m\u001b[0;34m,\u001b[0m \u001b[0mout\u001b[0m\u001b[0;34m,\u001b[0m \u001b[0mkeepdims\u001b[0m\u001b[0;34m,\u001b[0m \u001b[0mwhere\u001b[0m\u001b[0;34m=\u001b[0m\u001b[0mwhere\u001b[0m\u001b[0;34m)\u001b[0m\u001b[0;34m\u001b[0m\u001b[0;34m\u001b[0m\u001b[0m\n\u001b[0m\u001b[1;32m    180\u001b[0m     \u001b[0;32mif\u001b[0m \u001b[0misinstance\u001b[0m\u001b[0;34m(\u001b[0m\u001b[0mret\u001b[0m\u001b[0;34m,\u001b[0m \u001b[0mmu\u001b[0m\u001b[0;34m.\u001b[0m\u001b[0mndarray\u001b[0m\u001b[0;34m)\u001b[0m\u001b[0;34m:\u001b[0m\u001b[0;34m\u001b[0m\u001b[0;34m\u001b[0m\u001b[0m\n\u001b[1;32m    181\u001b[0m         ret = um.true_divide(\n",
            "\u001b[0;31mTypeError\u001b[0m: cannot perform reduce with flexible type"
          ]
        }
      ]
    },
    {
      "cell_type": "markdown",
      "source": [
        "Question 3\n"
      ],
      "metadata": {
        "id": "YKZ5YCuP_sg2"
      }
    },
    {
      "cell_type": "code",
      "source": [
        "#@title Default title text\n",
        "#first import the modules from ploting and numpy for arrays \n",
        "\n",
        "import matplotlib.pyplot as plt \n",
        "import numpy as np\n",
        "\n",
        "#x = [0,10,20,30,40,50,60]\n",
        "#y = [0,20000,40000,60000,80000,100000]\n",
        "\n",
        "#plt.plot(x,y)\n",
        "#plt.xlabel('number of months')\n",
        "#plt.ylabel('debts')\n",
        "\n",
        "\n",
        "debt = 100000\n",
        "repayments = 0 \n",
        "years = 0\n",
        "month = 0\n",
        "interest = 0.65\n",
        "\n",
        "#Our range starts from a 1000 till 4000\n",
        "#x = range(1000,5000,1000)\n",
        "#for n in x :\n",
        "\n",
        "#We will calculate our repayments of 1000,2000,3000,4000\n",
        "#Each time we will insert the monthly payment we want to determine\n",
        "repayments  = debt/1000\n",
        "\n",
        "months = repayments % 12\n",
        "years = (repayments - months )/12\n",
        "\n",
        "#print('Repayment in {} years and {} months' .format(int(years),int(months)))\n",
        "\n",
        "while debt <0 :\n",
        "#while n in range(1000,5000,1000):\n",
        "     debt = (repayments - months )/12 \n",
        "     years = years + 1\n",
        "\n",
        "print('Repayment in {} years and {} months' .format(int(years),int(months)))   \n",
        "\n",
        "\n",
        "repayments  = debt/2000\n",
        "\n",
        "months = repayments % 12\n",
        "years = (repayments - months )/12\n",
        "\n",
        "while debt <0 :\n",
        "     debt = (repayments - months )/12 \n",
        "     years = years + 1\n",
        "\n",
        "print('Repayment in {} years and {} months' .format(int(years),int(months)))  \n",
        "\n",
        "\n",
        "repayments  = debt/3000\n",
        "\n",
        "months = repayments % 12\n",
        "years = (repayments - months )/12\n",
        "\n",
        "while debt <0 :\n",
        "     debt = (repayments - months )/12 \n",
        "     years = years + 1\n",
        "\n",
        "print('Repayment in {} years and {} months' .format(int(years),int(months)))  \n",
        "\n",
        "repayments  = debt/4000\n",
        "\n",
        "months = repayments % 12\n",
        "years = (repayments - months )/12\n",
        "\n",
        "while debt <0 :\n",
        "     debt = (repayments - months )/12 \n",
        "     years = years + 1\n",
        "\n",
        "print('Repayment in {} years and {} months' .format(int(years),int(months)))  \n"
      ],
      "metadata": {
        "colab": {
          "base_uri": "https://localhost:8080/"
        },
        "id": "305TW7Wb_r9G",
        "outputId": "9ec7fcf4-ae3d-47c4-c6c2-ed7b9cc7e5e7"
      },
      "execution_count": 119,
      "outputs": [
        {
          "output_type": "stream",
          "name": "stdout",
          "text": [
            "Repayment in 8 years and 4 months\n",
            "Repayment in 4 years and 2 months\n",
            "Repayment in 2 years and 9 months\n",
            "Repayment in 2 years and 1 months\n"
          ]
        }
      ]
    },
    {
      "cell_type": "code",
      "source": [
        "\n",
        "import matplotlib.pyplot as plt \n",
        "import numpy as np\n",
        "\n",
        "\n",
        "debt = 100000\n",
        "repayments = 0 \n",
        "years = 0\n",
        "month = 0\n",
        "interest = 0.65\n",
        "\n",
        "#Our range starts from a 1000 till 4000\n",
        "#x = range(1000,5000,1000)\n",
        "#for n in x :\n",
        "\n",
        "#We will calculate our repayments of 1000,2000,3000,4000\n",
        "#Each time we will insert the monthly payment we want to determine\n",
        "repayments  = debt/1000\n",
        "\n",
        "months = repayments % 12\n",
        "years = (repayments - months )/12\n",
        "\n",
        "\n",
        "while debt <0 :\n",
        "     debt = (repayments - months )/12 \n",
        "     if years <=8 :\n",
        "        print('\"Debt will never be paid' .format(int(years),int(months)))   \n"
      ],
      "metadata": {
        "id": "6B_oFGqAZNTU"
      },
      "execution_count": 117,
      "outputs": []
    },
    {
      "cell_type": "code",
      "source": [
        "import numpy as np\n",
        "import matplotlib.pyplot as plt\n",
        "\n",
        "def interest_in_each_month(amount:float)->float:\n",
        "  return amount-(0.065*amount) \n",
        "  #i forget the method of computing the balance for payments\n",
        "def methodForPaynt(amount: float)->tuple: \n",
        "  interest =list([100000])\n",
        "\n",
        "  month=list([0]) #[jan,feb....dec]\n",
        "  n=0\n",
        "  while True:\n",
        "      balance=interest[-1]- interest_in_each_month(amount)\n",
        "      interest.append(balance)\n",
        "      n=n+1\n",
        "      month.append(n)\n",
        "      if balance<=0:\n",
        "          break\n",
        "      return month,interest\n",
        "x_axis_1000,y_axis_1000 =methodForPaynt(1000)\n",
        "x_axis_2000,y_axis_2000= methodForPaynt(2000)\n",
        "x_axis_3000,y_axis_3000= methodForPaynt(3000)\n",
        "x_axis_4000,y_axis_4000= methodForPaynt(4000)\n",
        "\n",
        "plt.plot(x_axis_1000,y_axis_1000,label=\"1000\")\n",
        "plt.plot(x_axis_2000,y_axis_2000,label=\"2000\")\n",
        "plt.plot(x_axis_3000,y_axis_3000,label=\"3000\")\n",
        "plt.plot(x_axis_4000,y_axis_4000,label=\"4000\")\n",
        "\n",
        "plt.legend()\n",
        "plt.ylim((0, 100000))\n",
        "plt.xlim((0, 60))\n",
        "plt.ylabel('debt')\n",
        "plt.xlabel('No. Of Months')\n",
        "plt.show()\n",
        "plt.plot(x,y)\n"
      ],
      "metadata": {
        "colab": {
          "base_uri": "https://localhost:8080/",
          "height": 548
        },
        "id": "fA2piZ9WwtEy",
        "outputId": "aa5a5f08-fb7e-4fe6-aa01-d182bcd768c2"
      },
      "execution_count": 36,
      "outputs": [
        {
          "output_type": "display_data",
          "data": {
            "text/plain": [
              "<Figure size 432x288 with 1 Axes>"
            ],
            "image/png": "[encoded data removed]"
          },
          "metadata": {
            "needs_background": "light"
          }
        },
        {
          "output_type": "execute_result",
          "data": {
            "text/plain": [
              "[<matplotlib.lines.Line2D at 0x7f8254cdb810>]"
            ]
          },
          "metadata": {},
          "execution_count": 36
        },
        {
          "output_type": "display_data",
          "data": {
            "text/plain": [
              "<Figure size 432x288 with 1 Axes>"
            ],
            "image/png": "[encoded data removed]"
          },
          "metadata": {
            "needs_background": "light"
          }
        }
      ]
    }
  ]
}