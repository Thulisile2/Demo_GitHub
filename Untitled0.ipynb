{
  "nbformat": 4,
  "nbformat_minor": 0,
  "metadata": {
    "colab": {
      "name": "Untitled0.ipynb",
      "provenance": [],
      "authorship_tag": "ABX9TyOA64RkXgYug4c1kQKagoFR",
      "include_colab_link": true
    },
    "kernelspec": {
      "name": "python3",
      "display_name": "Python 3"
    },
    "language_info": {
      "name": "python"
    }
  },
  "cells": [
    {
      "cell_type": "markdown",
      "metadata": {
        "id": "view-in-github",
        "colab_type": "text"
      },
      "source": [
        "<a href=\"https://colab.research.google.com/github/Thulisile2/Demo_GitHub/blob/main/Untitled0.ipynb\" target=\"_parent\"><img src=\"https://colab.research.google.com/assets/colab-badge.svg\" alt=\"Open In Colab\"/></a>"
      ]
    },
    {
      "cell_type": "code",
      "execution_count": 1,
      "metadata": {
        "colab": {
          "base_uri": "https://localhost:8080/"
        },
        "id": "Q_rtVlHO0Oai",
        "outputId": "6b556cec-48aa-4adf-e59e-fbfe17cf904b"
      },
      "outputs": [
        {
          "output_type": "stream",
          "name": "stdout",
          "text": [
            "Mounted at /content/drive\n"
          ]
        }
      ],
      "source": [
        "from google.colab import drive\n",
        "drive.mount('/content/drive')"
      ]
    },
    {
      "cell_type": "code",
      "source": [
        "!ls"
      ],
      "metadata": {
        "colab": {
          "base_uri": "https://localhost:8080/"
        },
        "id": "TpXnygNi1HiR",
        "outputId": "ed0e9da0-1d41-42fb-85ba-9e11af801b1f"
      },
      "execution_count": 2,
      "outputs": [
        {
          "output_type": "stream",
          "name": "stdout",
          "text": [
            "drive  sample_data\n"
          ]
        }
      ]
    },
    {
      "cell_type": "code",
      "source": [
        "!pwd"
      ],
      "metadata": {
        "colab": {
          "base_uri": "https://localhost:8080/"
        },
        "id": "7_evgHby1LOi",
        "outputId": "eb1e8a0b-2d71-457e-d8fc-6d117b811a76"
      },
      "execution_count": 3,
      "outputs": [
        {
          "output_type": "stream",
          "name": "stdout",
          "text": [
            "/content\n"
          ]
        }
      ]
    },
    {
      "cell_type": "code",
      "source": [
        "%cd ./drive"
      ],
      "metadata": {
        "colab": {
          "base_uri": "https://localhost:8080/"
        },
        "id": "NHKIFeEZ1SpW",
        "outputId": "ecdc2312-349b-4518-fb3d-190bc6db7b4a"
      },
      "execution_count": 4,
      "outputs": [
        {
          "output_type": "stream",
          "name": "stdout",
          "text": [
            "/content/drive\n"
          ]
        }
      ]
    },
    {
      "cell_type": "code",
      "source": [
        "!ls"
      ],
      "metadata": {
        "colab": {
          "base_uri": "https://localhost:8080/"
        },
        "id": "kOKWARvI1S1m",
        "outputId": "0958dfac-1435-4f31-f78e-84bb16768e5e"
      },
      "execution_count": 5,
      "outputs": [
        {
          "output_type": "stream",
          "name": "stdout",
          "text": [
            "MyDrive\n"
          ]
        }
      ]
    },
    {
      "cell_type": "code",
      "source": [
        "%cd ./Note Books"
      ],
      "metadata": {
        "colab": {
          "base_uri": "https://localhost:8080/"
        },
        "id": "0SZPQfCv1dTk",
        "outputId": "fe0f647c-1d4f-4789-edc3-2b6b5852fa4a"
      },
      "execution_count": 7,
      "outputs": [
        {
          "output_type": "stream",
          "name": "stdout",
          "text": [
            "[Errno 2] No such file or directory: './Note Books'\n",
            "/content/drive\n"
          ]
        }
      ]
    },
    {
      "cell_type": "code",
      "source": [
        "%cd ./MyDrive"
      ],
      "metadata": {
        "colab": {
          "base_uri": "https://localhost:8080/"
        },
        "id": "Sv6fXKX91h-O",
        "outputId": "3d26cd8a-a5c4-488c-d112-1e4af1984d6e"
      },
      "execution_count": 8,
      "outputs": [
        {
          "output_type": "stream",
          "name": "stdout",
          "text": [
            "/content/drive/MyDrive\n"
          ]
        }
      ]
    },
    {
      "cell_type": "code",
      "source": [
        "!ls"
      ],
      "metadata": {
        "colab": {
          "base_uri": "https://localhost:8080/"
        },
        "id": "aso5fiM22SiR",
        "outputId": "174c6324-d2d0-4cd6-d406-ed76b2642bad"
      },
      "execution_count": 9,
      "outputs": [
        {
          "output_type": "stream",
          "name": "stdout",
          "text": [
            " 1160494.pdf\t\t\t\t IMG-20200108-WA0005.jpg\n",
            " 20180127_132212.jpg\t\t\t IMG-20200114-WA0128.jpg\n",
            " 201802080959.pdf\t\t\t IMG-20200124-WA0040.jpg\n",
            " 20180217_121150.jpg\t\t\t IMG-20200126-WA0011.jpg\n",
            " 201803201209.pdf\t\t\t IMG-20200208-WA0070.jpg\n",
            " art\t\t\t\t\t IMG-20200208-WA0071.jpg\n",
            "'Banele Mthembu '\t\t\t IMG-20200208-WA0072.jpg\n",
            "'Call center cover Letter.docx'\t\t IMG-20200208-WA0073.jpg\n",
            "'Colab Notebooks'\t\t\t IMG-20200208-WA0074.jpg\n",
            "'C.V 2021 (Cursive Title).pdf'\t\t IMG-20200208-WA0076.jpg\n",
            "'doc letter.pdf'\t\t\t IMG-20200208-WA0077.jpg\n",
            "'Getting started.pdf'\t\t\t IMG-20200227-WA0029.jpg\n",
            " GR12Q.pdf\t\t\t\t'IMG-20200307-WA0031 (1).jpg'\n",
            "'HW Part 1 - video hints-20210930.zip'\t IMG-20200311-WA0035.jpg\n",
            " IMG_20180420_105227.jpg\t\t IMG-20200313-WA0028.jpg\n",
            " IMG-20180903-WA0023.jpg\t\t IMG-20200316-WA0038.jpg\n",
            " IMG-20180907-WA0010.jpg\t\t IMG-20200326-WA0008.jpg\n",
            " IMG-20190105-WA0003.jpg\t\t IMG-20200326-WA0010.jpg\n",
            " IMG-20190105-WA0004.jpg\t\t IMG-20200329-WA0007.jpg\n",
            " IMG-20190105-WA0005.jpg\t\t IMG-20200402-WA0048.jpg\n",
            " IMG-20190105-WA0006.jpg\t\t IMG-20200405-WA0022.jpg\n",
            " IMG-20190106-WA0010.jpg\t\t IMG-20200407-WA0022.jpg\n",
            " IMG-20190106-WA0012.jpg\t\t IMG-20200414-WA0027.jpg\n",
            " IMG-20190213-WA0024.jpg\t\t IMG-20200415-WA0007.jpg\n",
            " IMG-20190301-WA0002.jpg\t\t IMG-20200417-WA0016.jpg\n",
            " IMG_20190304_180028.jpg\t\t IMG-20200420-WA0006.jpg\n",
            " IMG_20190304_180056.jpg\t\t IMG_20200422_205156.png\n",
            " IMG-20190309-WA0302.jpg\t\t IMG-20200423-WA0060.jpg\n",
            " IMG_20190311_090837.jpg\t\t IMG-20200426-WA0003.jpg\n",
            " IMG_20190311_090913.jpg\t\t IMG-20200426-WA0004.jpg\n",
            " IMG-20190315-WA0001.jpg\t\t IMG-20200426-WA0019.jpg\n",
            " IMG-20190316-WA0003.jpg\t\t IMG-20200426-WA0020.jpg\n",
            " IMG_20190318_235804.jpg\t\t IMG-20200426-WA0021.jpg\n",
            " IMG_20190325_131855_1.jpg\t\t IMG-20200427-WA0051.jpg\n",
            " IMG-20190325-WA0015.jpg\t\t IMG-20200502-WA0002.jpg\n",
            " IMG_20190330_235412.jpg\t\t IMG-20200504-WA0016.jpg\n",
            " IMG_20190330_235428.jpg\t\t IMG-20200513-WA0004.jpg\n",
            " IMG_20190409_081204.jpg\t\t IMG-20200526-WA0039.jpg\n",
            " IMG_20190427_112058.jpg\t\t IMG-20200531-WA0009.jpg\n",
            " IMG_20190427_112101_1.jpg\t\t IMG-20200605-WA0002.jpg\n",
            " IMG_20190525_071404.jpg\t\t IMG-20200605-WA0006.jpg\n",
            " IMG-20190801-WA0001.jpg\t\t IMG-20200607-WA0020.jpg\n",
            " IMG_20190814_225854.jpg\t\t IMG-20200706-WA0040.jpg\n",
            " IMG_20190814_232312.jpg\t\t IMG_7086.HEIC\n",
            "'IMG-20190814-WA0026 (1).jpg'\t\t IMG_7090.HEIC\n",
            " IMG-20190814-WA0027.jpg\t\t IMG_7092.HEIC\n",
            " IMG_20190816_000454.jpg\t\t IMG_7093.HEIC\n",
            " IMG_20190816_000525.jpg\t\t job_123.pdf\n",
            " IMG_20190816_000657.jpg\t\t PHYS365.zip.zip\n",
            " IMG_20190830_210104.jpg\t\t'PHYSIC 211'\n",
            " IMG-20190915-WA0010.jpg\t\t'PowerPoint '\n",
            "'IMG-20190920-WA0001 (1).jpg'\t\t'quotation template.docx'\n",
            " IMG_20190924_155400.jpg\t\t Screenshot_20190120-143143.png\n",
            " IMG_20190926_132213.jpg\t\t Screenshot_20190813-162900.png\n",
            " IMG_20190926_132218.jpg\t\t Screenshot_20190924-104623.png\n",
            " IMG_20190926_132222.jpg\t\t Screenshot_20190924-111237.png\n",
            " IMG_20190926_132230.jpg\t\t Screenshot_20190924-120610.png\n",
            " IMG-20191002-WA0096.jpg\t\t Screenshot_20190924-133128.png\n",
            " IMG-20191011-WA0010.jpg\t\t Screenshot_20191020-232533.png\n",
            "'IMG-20191011-WA0021 (1).jpg'\t\t Screenshot_20191116-121907.png\n",
            " IMG_20191110_160158.jpg\t\t Screenshot_20200111-202030.png\n",
            " IMG-20191112-WA0061.jpg\t\t Screenshot_20200119-211942.png\n",
            "'IMG-20191113-WA0025 (1).jpg'\t\t Screenshot_20200202-230423.png\n",
            "'IMG-20191113-WA0027 (1).jpg'\t\t Screenshot_20200311-203144.png\n",
            " IMG-20191113-WA0027.jpg\t\t Screenshot_20200324-223826.png\n",
            " IMG-20191119-WA0035.jpg\t\t Screenshot_20200405-132906.png\n",
            " IMG-20191119-WA0036.jpg\t\t Screenshot_20200422-205137.png\n",
            " IMG-20191119-WA0037.jpg\t\t Screenshot_20200426-230539.png\n",
            " IMG-20191127-WA0004.jpg\t\t Screenshot_20200427-123131.png\n",
            " IMG-20191128-WA0001.jpg\t\t Screenshot_20200629-214245.jpg\n",
            " IMG-20191202-WA0034.jpg\t\t Screenshot_20200811-190431.jpg\n",
            " IMG-20191205-WA0057.jpg\t\t Screenshot_20200817-212852.jpg\n",
            " IMG-20191205-WA0090.jpg\t\t Screenshot_20200829-205235.jpg\n",
            " IMG-20191207-WA0000.jpg\t\t Screenshot_20200916-223705.jpg\n",
            " IMG-20191210-WA0000.jpg\t\t Screenshot_20201013-222021.jpg\n",
            "'IMG-20191210-WA0001 (1).jpg'\t\t Screenshot_20201019-110646.jpg\n",
            " IMG-20191210-WA0002.jpg\t\t'Thulisile Nkabinde.pdf'\n",
            " IMG-20191210-WA0003.jpg\t\t ukzn-fee-booklet-2017.pdf\n",
            " IMG-20191210-WA0005.jpg\t\t ‎Untitled.pdf\n",
            " IMG-20191210-WA0012.jpg\t\t VID_20190304_180238.mp4\n",
            " IMG_20191213_163449.png\t\t VID-20190829-WA0009.mp4\n",
            " IMG-20191220-WA0010.jpg\t\t VID-20191205-WA0085.mp4\n",
            " IMG-20191221-WA0012.jpg\t\t VID-20200802-WA0011.mp4\n",
            " IMG-20191225-WA0020.jpg\n"
          ]
        }
      ]
    },
    {
      "cell_type": "code",
      "source": [
        "!ls"
      ],
      "metadata": {
        "colab": {
          "base_uri": "https://localhost:8080/"
        },
        "id": "88QJrW5H2iRr",
        "outputId": "4dc8a7de-3dc3-4b3c-e116-517b24016bf9"
      },
      "execution_count": 10,
      "outputs": [
        {
          "output_type": "stream",
          "name": "stdout",
          "text": [
            " 1160494.pdf\t\t\t\t IMG-20200108-WA0005.jpg\n",
            " 20180127_132212.jpg\t\t\t IMG-20200114-WA0128.jpg\n",
            " 201802080959.pdf\t\t\t IMG-20200124-WA0040.jpg\n",
            " 20180217_121150.jpg\t\t\t IMG-20200126-WA0011.jpg\n",
            " 201803201209.pdf\t\t\t IMG-20200208-WA0070.jpg\n",
            " art\t\t\t\t\t IMG-20200208-WA0071.jpg\n",
            "'Banele Mthembu '\t\t\t IMG-20200208-WA0072.jpg\n",
            "'Call center cover Letter.docx'\t\t IMG-20200208-WA0073.jpg\n",
            "'Colab Notebooks'\t\t\t IMG-20200208-WA0074.jpg\n",
            "'C.V 2021 (Cursive Title).pdf'\t\t IMG-20200208-WA0076.jpg\n",
            "'doc letter.pdf'\t\t\t IMG-20200208-WA0077.jpg\n",
            "'Getting started.pdf'\t\t\t IMG-20200227-WA0029.jpg\n",
            " GR12Q.pdf\t\t\t\t'IMG-20200307-WA0031 (1).jpg'\n",
            "'HW Part 1 - video hints-20210930.zip'\t IMG-20200311-WA0035.jpg\n",
            " IMG_20180420_105227.jpg\t\t IMG-20200313-WA0028.jpg\n",
            " IMG-20180903-WA0023.jpg\t\t IMG-20200316-WA0038.jpg\n",
            " IMG-20180907-WA0010.jpg\t\t IMG-20200326-WA0008.jpg\n",
            " IMG-20190105-WA0003.jpg\t\t IMG-20200326-WA0010.jpg\n",
            " IMG-20190105-WA0004.jpg\t\t IMG-20200329-WA0007.jpg\n",
            " IMG-20190105-WA0005.jpg\t\t IMG-20200402-WA0048.jpg\n",
            " IMG-20190105-WA0006.jpg\t\t IMG-20200405-WA0022.jpg\n",
            " IMG-20190106-WA0010.jpg\t\t IMG-20200407-WA0022.jpg\n",
            " IMG-20190106-WA0012.jpg\t\t IMG-20200414-WA0027.jpg\n",
            " IMG-20190213-WA0024.jpg\t\t IMG-20200415-WA0007.jpg\n",
            " IMG-20190301-WA0002.jpg\t\t IMG-20200417-WA0016.jpg\n",
            " IMG_20190304_180028.jpg\t\t IMG-20200420-WA0006.jpg\n",
            " IMG_20190304_180056.jpg\t\t IMG_20200422_205156.png\n",
            " IMG-20190309-WA0302.jpg\t\t IMG-20200423-WA0060.jpg\n",
            " IMG_20190311_090837.jpg\t\t IMG-20200426-WA0003.jpg\n",
            " IMG_20190311_090913.jpg\t\t IMG-20200426-WA0004.jpg\n",
            " IMG-20190315-WA0001.jpg\t\t IMG-20200426-WA0019.jpg\n",
            " IMG-20190316-WA0003.jpg\t\t IMG-20200426-WA0020.jpg\n",
            " IMG_20190318_235804.jpg\t\t IMG-20200426-WA0021.jpg\n",
            " IMG_20190325_131855_1.jpg\t\t IMG-20200427-WA0051.jpg\n",
            " IMG-20190325-WA0015.jpg\t\t IMG-20200502-WA0002.jpg\n",
            " IMG_20190330_235412.jpg\t\t IMG-20200504-WA0016.jpg\n",
            " IMG_20190330_235428.jpg\t\t IMG-20200513-WA0004.jpg\n",
            " IMG_20190409_081204.jpg\t\t IMG-20200526-WA0039.jpg\n",
            " IMG_20190427_112058.jpg\t\t IMG-20200531-WA0009.jpg\n",
            " IMG_20190427_112101_1.jpg\t\t IMG-20200605-WA0002.jpg\n",
            " IMG_20190525_071404.jpg\t\t IMG-20200605-WA0006.jpg\n",
            " IMG-20190801-WA0001.jpg\t\t IMG-20200607-WA0020.jpg\n",
            " IMG_20190814_225854.jpg\t\t IMG-20200706-WA0040.jpg\n",
            " IMG_20190814_232312.jpg\t\t IMG_7086.HEIC\n",
            "'IMG-20190814-WA0026 (1).jpg'\t\t IMG_7090.HEIC\n",
            " IMG-20190814-WA0027.jpg\t\t IMG_7092.HEIC\n",
            " IMG_20190816_000454.jpg\t\t IMG_7093.HEIC\n",
            " IMG_20190816_000525.jpg\t\t job_123.pdf\n",
            " IMG_20190816_000657.jpg\t\t PHYS365.zip.zip\n",
            " IMG_20190830_210104.jpg\t\t'PHYSIC 211'\n",
            " IMG-20190915-WA0010.jpg\t\t'PowerPoint '\n",
            "'IMG-20190920-WA0001 (1).jpg'\t\t'quotation template.docx'\n",
            " IMG_20190924_155400.jpg\t\t Screenshot_20190120-143143.png\n",
            " IMG_20190926_132213.jpg\t\t Screenshot_20190813-162900.png\n",
            " IMG_20190926_132218.jpg\t\t Screenshot_20190924-104623.png\n",
            " IMG_20190926_132222.jpg\t\t Screenshot_20190924-111237.png\n",
            " IMG_20190926_132230.jpg\t\t Screenshot_20190924-120610.png\n",
            " IMG-20191002-WA0096.jpg\t\t Screenshot_20190924-133128.png\n",
            " IMG-20191011-WA0010.jpg\t\t Screenshot_20191020-232533.png\n",
            "'IMG-20191011-WA0021 (1).jpg'\t\t Screenshot_20191116-121907.png\n",
            " IMG_20191110_160158.jpg\t\t Screenshot_20200111-202030.png\n",
            " IMG-20191112-WA0061.jpg\t\t Screenshot_20200119-211942.png\n",
            "'IMG-20191113-WA0025 (1).jpg'\t\t Screenshot_20200202-230423.png\n",
            "'IMG-20191113-WA0027 (1).jpg'\t\t Screenshot_20200311-203144.png\n",
            " IMG-20191113-WA0027.jpg\t\t Screenshot_20200324-223826.png\n",
            " IMG-20191119-WA0035.jpg\t\t Screenshot_20200405-132906.png\n",
            " IMG-20191119-WA0036.jpg\t\t Screenshot_20200422-205137.png\n",
            " IMG-20191119-WA0037.jpg\t\t Screenshot_20200426-230539.png\n",
            " IMG-20191127-WA0004.jpg\t\t Screenshot_20200427-123131.png\n",
            " IMG-20191128-WA0001.jpg\t\t Screenshot_20200629-214245.jpg\n",
            " IMG-20191202-WA0034.jpg\t\t Screenshot_20200811-190431.jpg\n",
            " IMG-20191205-WA0057.jpg\t\t Screenshot_20200817-212852.jpg\n",
            " IMG-20191205-WA0090.jpg\t\t Screenshot_20200829-205235.jpg\n",
            " IMG-20191207-WA0000.jpg\t\t Screenshot_20200916-223705.jpg\n",
            " IMG-20191210-WA0000.jpg\t\t Screenshot_20201013-222021.jpg\n",
            "'IMG-20191210-WA0001 (1).jpg'\t\t Screenshot_20201019-110646.jpg\n",
            " IMG-20191210-WA0002.jpg\t\t'Thulisile Nkabinde.pdf'\n",
            " IMG-20191210-WA0003.jpg\t\t ukzn-fee-booklet-2017.pdf\n",
            " IMG-20191210-WA0005.jpg\t\t ‎Untitled.pdf\n",
            " IMG-20191210-WA0012.jpg\t\t VID_20190304_180238.mp4\n",
            " IMG_20191213_163449.png\t\t VID-20190829-WA0009.mp4\n",
            " IMG-20191220-WA0010.jpg\t\t VID-20191205-WA0085.mp4\n",
            " IMG-20191221-WA0012.jpg\t\t VID-20200802-WA0011.mp4\n",
            " IMG-20191225-WA0020.jpg\n"
          ]
        }
      ]
    },
    {
      "cell_type": "code",
      "source": [
        "%cd ./Colab Notebooks"
      ],
      "metadata": {
        "colab": {
          "base_uri": "https://localhost:8080/"
        },
        "id": "wen9zJZT2yW7",
        "outputId": "b10026b2-2bea-4e72-9c1f-c61581eb5acc"
      },
      "execution_count": 13,
      "outputs": [
        {
          "output_type": "stream",
          "name": "stdout",
          "text": [
            "/content/drive/MyDrive/Colab Notebooks\n"
          ]
        }
      ]
    },
    {
      "cell_type": "code",
      "source": [
        "!ls"
      ],
      "metadata": {
        "colab": {
          "base_uri": "https://localhost:8080/"
        },
        "id": "p-uwp0xF2yjr",
        "outputId": "d76eef73-5643-4139-857b-c1f2d58f1e32"
      },
      "execution_count": 14,
      "outputs": [
        {
          "output_type": "stream",
          "name": "stdout",
          "text": [
            "'Copy of First_Project.ipynb'   First_Project.ipynb   Untitled0.ipynb\n"
          ]
        }
      ]
    },
    {
      "cell_type": "code",
      "source": [
        "%cd ../"
      ],
      "metadata": {
        "colab": {
          "base_uri": "https://localhost:8080/"
        },
        "id": "VOoSnNh23PEG",
        "outputId": "050f9f23-2446-49d8-c857-2f1f3d279e40"
      },
      "execution_count": 15,
      "outputs": [
        {
          "output_type": "stream",
          "name": "stdout",
          "text": [
            "/content/drive/MyDrive\n"
          ]
        }
      ]
    },
    {
      "cell_type": "code",
      "source": [
        "!ls"
      ],
      "metadata": {
        "colab": {
          "base_uri": "https://localhost:8080/"
        },
        "id": "EPP1grUb3PMT",
        "outputId": "91b3f949-0da4-440e-e75c-c26f412767b6"
      },
      "execution_count": 16,
      "outputs": [
        {
          "output_type": "stream",
          "name": "stdout",
          "text": [
            " 1160494.pdf\t\t\t\t IMG-20200108-WA0005.jpg\n",
            " 20180127_132212.jpg\t\t\t IMG-20200114-WA0128.jpg\n",
            " 201802080959.pdf\t\t\t IMG-20200124-WA0040.jpg\n",
            " 20180217_121150.jpg\t\t\t IMG-20200126-WA0011.jpg\n",
            " 201803201209.pdf\t\t\t IMG-20200208-WA0070.jpg\n",
            " art\t\t\t\t\t IMG-20200208-WA0071.jpg\n",
            "'Banele Mthembu '\t\t\t IMG-20200208-WA0072.jpg\n",
            "'Call center cover Letter.docx'\t\t IMG-20200208-WA0073.jpg\n",
            "'Colab Notebooks'\t\t\t IMG-20200208-WA0074.jpg\n",
            "'C.V 2021 (Cursive Title).pdf'\t\t IMG-20200208-WA0076.jpg\n",
            "'doc letter.pdf'\t\t\t IMG-20200208-WA0077.jpg\n",
            "'Getting started.pdf'\t\t\t IMG-20200227-WA0029.jpg\n",
            " GR12Q.pdf\t\t\t\t'IMG-20200307-WA0031 (1).jpg'\n",
            "'HW Part 1 - video hints-20210930.zip'\t IMG-20200311-WA0035.jpg\n",
            " IMG_20180420_105227.jpg\t\t IMG-20200313-WA0028.jpg\n",
            " IMG-20180903-WA0023.jpg\t\t IMG-20200316-WA0038.jpg\n",
            " IMG-20180907-WA0010.jpg\t\t IMG-20200326-WA0008.jpg\n",
            " IMG-20190105-WA0003.jpg\t\t IMG-20200326-WA0010.jpg\n",
            " IMG-20190105-WA0004.jpg\t\t IMG-20200329-WA0007.jpg\n",
            " IMG-20190105-WA0005.jpg\t\t IMG-20200402-WA0048.jpg\n",
            " IMG-20190105-WA0006.jpg\t\t IMG-20200405-WA0022.jpg\n",
            " IMG-20190106-WA0010.jpg\t\t IMG-20200407-WA0022.jpg\n",
            " IMG-20190106-WA0012.jpg\t\t IMG-20200414-WA0027.jpg\n",
            " IMG-20190213-WA0024.jpg\t\t IMG-20200415-WA0007.jpg\n",
            " IMG-20190301-WA0002.jpg\t\t IMG-20200417-WA0016.jpg\n",
            " IMG_20190304_180028.jpg\t\t IMG-20200420-WA0006.jpg\n",
            " IMG_20190304_180056.jpg\t\t IMG_20200422_205156.png\n",
            " IMG-20190309-WA0302.jpg\t\t IMG-20200423-WA0060.jpg\n",
            " IMG_20190311_090837.jpg\t\t IMG-20200426-WA0003.jpg\n",
            " IMG_20190311_090913.jpg\t\t IMG-20200426-WA0004.jpg\n",
            " IMG-20190315-WA0001.jpg\t\t IMG-20200426-WA0019.jpg\n",
            " IMG-20190316-WA0003.jpg\t\t IMG-20200426-WA0020.jpg\n",
            " IMG_20190318_235804.jpg\t\t IMG-20200426-WA0021.jpg\n",
            " IMG_20190325_131855_1.jpg\t\t IMG-20200427-WA0051.jpg\n",
            " IMG-20190325-WA0015.jpg\t\t IMG-20200502-WA0002.jpg\n",
            " IMG_20190330_235412.jpg\t\t IMG-20200504-WA0016.jpg\n",
            " IMG_20190330_235428.jpg\t\t IMG-20200513-WA0004.jpg\n",
            " IMG_20190409_081204.jpg\t\t IMG-20200526-WA0039.jpg\n",
            " IMG_20190427_112058.jpg\t\t IMG-20200531-WA0009.jpg\n",
            " IMG_20190427_112101_1.jpg\t\t IMG-20200605-WA0002.jpg\n",
            " IMG_20190525_071404.jpg\t\t IMG-20200605-WA0006.jpg\n",
            " IMG-20190801-WA0001.jpg\t\t IMG-20200607-WA0020.jpg\n",
            " IMG_20190814_225854.jpg\t\t IMG-20200706-WA0040.jpg\n",
            " IMG_20190814_232312.jpg\t\t IMG_7086.HEIC\n",
            "'IMG-20190814-WA0026 (1).jpg'\t\t IMG_7090.HEIC\n",
            " IMG-20190814-WA0027.jpg\t\t IMG_7092.HEIC\n",
            " IMG_20190816_000454.jpg\t\t IMG_7093.HEIC\n",
            " IMG_20190816_000525.jpg\t\t job_123.pdf\n",
            " IMG_20190816_000657.jpg\t\t PHYS365.zip.zip\n",
            " IMG_20190830_210104.jpg\t\t'PHYSIC 211'\n",
            " IMG-20190915-WA0010.jpg\t\t'PowerPoint '\n",
            "'IMG-20190920-WA0001 (1).jpg'\t\t'quotation template.docx'\n",
            " IMG_20190924_155400.jpg\t\t Screenshot_20190120-143143.png\n",
            " IMG_20190926_132213.jpg\t\t Screenshot_20190813-162900.png\n",
            " IMG_20190926_132218.jpg\t\t Screenshot_20190924-104623.png\n",
            " IMG_20190926_132222.jpg\t\t Screenshot_20190924-111237.png\n",
            " IMG_20190926_132230.jpg\t\t Screenshot_20190924-120610.png\n",
            " IMG-20191002-WA0096.jpg\t\t Screenshot_20190924-133128.png\n",
            " IMG-20191011-WA0010.jpg\t\t Screenshot_20191020-232533.png\n",
            "'IMG-20191011-WA0021 (1).jpg'\t\t Screenshot_20191116-121907.png\n",
            " IMG_20191110_160158.jpg\t\t Screenshot_20200111-202030.png\n",
            " IMG-20191112-WA0061.jpg\t\t Screenshot_20200119-211942.png\n",
            "'IMG-20191113-WA0025 (1).jpg'\t\t Screenshot_20200202-230423.png\n",
            "'IMG-20191113-WA0027 (1).jpg'\t\t Screenshot_20200311-203144.png\n",
            " IMG-20191113-WA0027.jpg\t\t Screenshot_20200324-223826.png\n",
            " IMG-20191119-WA0035.jpg\t\t Screenshot_20200405-132906.png\n",
            " IMG-20191119-WA0036.jpg\t\t Screenshot_20200422-205137.png\n",
            " IMG-20191119-WA0037.jpg\t\t Screenshot_20200426-230539.png\n",
            " IMG-20191127-WA0004.jpg\t\t Screenshot_20200427-123131.png\n",
            " IMG-20191128-WA0001.jpg\t\t Screenshot_20200629-214245.jpg\n",
            " IMG-20191202-WA0034.jpg\t\t Screenshot_20200811-190431.jpg\n",
            " IMG-20191205-WA0057.jpg\t\t Screenshot_20200817-212852.jpg\n",
            " IMG-20191205-WA0090.jpg\t\t Screenshot_20200829-205235.jpg\n",
            " IMG-20191207-WA0000.jpg\t\t Screenshot_20200916-223705.jpg\n",
            " IMG-20191210-WA0000.jpg\t\t Screenshot_20201013-222021.jpg\n",
            "'IMG-20191210-WA0001 (1).jpg'\t\t Screenshot_20201019-110646.jpg\n",
            " IMG-20191210-WA0002.jpg\t\t'Thulisile Nkabinde.pdf'\n",
            " IMG-20191210-WA0003.jpg\t\t ukzn-fee-booklet-2017.pdf\n",
            " IMG-20191210-WA0005.jpg\t\t ‎Untitled.pdf\n",
            " IMG-20191210-WA0012.jpg\t\t VID_20190304_180238.mp4\n",
            " IMG_20191213_163449.png\t\t VID-20190829-WA0009.mp4\n",
            " IMG-20191220-WA0010.jpg\t\t VID-20191205-WA0085.mp4\n",
            " IMG-20191221-WA0012.jpg\t\t VID-20200802-WA0011.mp4\n",
            " IMG-20191225-WA0020.jpg\n"
          ]
        }
      ]
    }
  ]
}