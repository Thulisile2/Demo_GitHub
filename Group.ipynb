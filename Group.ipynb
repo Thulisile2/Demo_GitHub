{
  "nbformat": 4,
  "nbformat_minor": 0,
  "metadata": {
    "colab": {
      "name": "Group.ipynb",
      "provenance": [],
      "toc_visible": true,
      "authorship_tag": "ABX9TyN9haz0eFle8NLyfAYqL1do",
      "include_colab_link": true
    },
    "kernelspec": {
      "name": "python3",
      "display_name": "Python 3"
    },
    "language_info": {
      "name": "python"
    }
  },
  "cells": [
    {
      "cell_type": "markdown",
      "metadata": {
        "id": "view-in-github",
        "colab_type": "text"
      },
      "source": [
        "<a href=\"https://colab.research.google.com/github/Thulisile2/Demo_GitHub/blob/main/Group.ipynb\" target=\"_parent\"><img src=\"https://colab.research.google.com/assets/colab-badge.svg\" alt=\"Open In Colab\"/></a>"
      ]
    },
    {
      "cell_type": "code",
      "execution_count": 5,
      "metadata": {
        "colab": {
          "base_uri": "https://localhost:8080/",
          "height": 235
        },
        "id": "fe4Rfzpee9IN",
        "outputId": "0a4bc4e8-5fa1-4461-d0af-c245870d3ae9"
      },
      "outputs": [
        {
          "output_type": "error",
          "ename": "TypeError",
          "evalue": "ignored",
          "traceback": [
            "\u001b[0;31m---------------------------------------------------------------------------\u001b[0m",
            "\u001b[0;31mTypeError\u001b[0m                                 Traceback (most recent call last)",
            "\u001b[0;32m<ipython-input-5-18ac339ffd11>\u001b[0m in \u001b[0;36m<module>\u001b[0;34m()\u001b[0m\n\u001b[1;32m     50\u001b[0m \u001b[0;32mfor\u001b[0m \u001b[0mn\u001b[0m \u001b[0;32min\u001b[0m \u001b[0mrange\u001b[0m\u001b[0;34m(\u001b[0m\u001b[0mN\u001b[0m\u001b[0;34m)\u001b[0m\u001b[0;34m:\u001b[0m\u001b[0;34m\u001b[0m\u001b[0;34m\u001b[0m\u001b[0m\n\u001b[1;32m     51\u001b[0m     \u001b[0;32mwhile\u001b[0m \u001b[0mt\u001b[0m\u001b[0;34m[\u001b[0m\u001b[0mn\u001b[0m\u001b[0;34m]\u001b[0m\u001b[0;34m<\u001b[0m\u001b[0;36m4\u001b[0m\u001b[0;34m:\u001b[0m\u001b[0;34m\u001b[0m\u001b[0;34m\u001b[0m\u001b[0m\n\u001b[0;32m---> 52\u001b[0;31m         \u001b[0mk1\u001b[0m\u001b[0;34m=\u001b[0m\u001b[0mdelta_t\u001b[0m\u001b[0;34m*\u001b[0m\u001b[0mf\u001b[0m\u001b[0;34m(\u001b[0m\u001b[0mx\u001b[0m\u001b[0;34m,\u001b[0m\u001b[0my\u001b[0m\u001b[0;34m)\u001b[0m\u001b[0;34m\u001b[0m\u001b[0;34m\u001b[0m\u001b[0m\n\u001b[0m\u001b[1;32m     53\u001b[0m         \u001b[0;31m#l1=delta_t*(g-(mu/m)*(v[n])**2)\u001b[0m\u001b[0;34m\u001b[0m\u001b[0;34m\u001b[0m\u001b[0;34m\u001b[0m\u001b[0m\n\u001b[1;32m     54\u001b[0m         \u001b[0mk2\u001b[0m\u001b[0;34m=\u001b[0m\u001b[0mdelta_t\u001b[0m\u001b[0;34m*\u001b[0m\u001b[0mf\u001b[0m\u001b[0;34m(\u001b[0m\u001b[0mx\u001b[0m\u001b[0;34m+\u001b[0m\u001b[0mdelta_t\u001b[0m\u001b[0;34m/\u001b[0m\u001b[0;36m2\u001b[0m\u001b[0;34m,\u001b[0m\u001b[0my\u001b[0m\u001b[0;34m+\u001b[0m\u001b[0mk1\u001b[0m\u001b[0;34m/\u001b[0m\u001b[0;36m2\u001b[0m\u001b[0;34m)\u001b[0m\u001b[0;34m\u001b[0m\u001b[0;34m\u001b[0m\u001b[0m\n",
            "\u001b[0;31mTypeError\u001b[0m: 'float' object is not callable"
          ]
        }
      ],
      "source": [
        "\n",
        "# dissociates into :dy/dt=v and dv/dt=g-(mu/m)*v^2, of which they are now two functions, this is only valid for the unrestrained path of the mass, where only FD and mg are the only forces acting on it.\n",
        "\n",
        "# for the other part of the journey, y will vary in a pendulum sense. The mass moves as if it was excecuting some circular motion\n",
        "# the new differential equations will be: dy/dt=v and dv/dt=g*(y/l)-(mu/m)*v^2, derived from: mgsin(theta)-mu*(v^2)=md^2y/dt^2\n",
        "# the runge kutta is as follows:\n",
        "#y[n+1]=y[n]+(1/6)*(k1+2*k2+2*k3+k4)\n",
        "#k1=h*y'(t[n],y[n],v[n])\n",
        "#l1=h*v'(t[n],y[n],v[n])\n",
        "#k2=h*y'(t[n]+h/2,y[n]+k1/2,v[n]+l1/2)\n",
        "#l2=h*v'(t[n]+h/2,y[n]+k1/2,v[n]+l1/2)\n",
        "#k3=h*y'(t[n]+h/2,y[n]+k2/2,v[n]+l2/2)\n",
        "#l3=h*v'(t[n]+h/2,y[n]+k2/2,v[n]+l2/2)\n",
        "#k4=h*y'(t[n]+h,y[n]+k1,v[n]+l1)\n",
        "#l4=h*v'(t[n]+h,y[n]+k3,v[n]+l3)\n",
        "\n",
        "# importing all the useful libraries\n",
        "import numpy as np #handling lists\n",
        "import matplotlib.pyplot as plt # for plotting\n",
        "\n",
        "# initial states and variables\n",
        "#  zero drag\n",
        "L=60\n",
        "k=10 #N.m^-1\n",
        "g=9.8 #m/s^2\n",
        "m=90 #kg\n",
        "mu=0\n",
        "fg=-m*g\n",
        "f=2.5\n",
        "\n",
        "n=0\n",
        "#we want a list of 4 variables\n",
        "x = [-20] # x list\n",
        "y=[0] # y list with one element, the initial state\n",
        "vy=[0] #velocity of y list\n",
        "vx=[0] # velocity of x list with one element, the initial state\n",
        "\n",
        "t=[0] # time list with one element, the initial state\n",
        "N=480 # number of time steps\n",
        "delta_t=0.25 #length of each time interval\n",
        "EK1=[0]\n",
        "EP1=[fg*0] # approximate height before pendulum like motion , initial \n",
        "Total_E=[0]\n",
        "\n",
        "# for the second part of the motion (pendulum like), we need its total kinetic energy\n",
        "\n",
        "EK2=[0]\n",
        "#EP2=[m*g*(h2-y)]\n",
        "#Total_E2\n",
        "for n in range(N):\n",
        "    while t[n]<4:\n",
        "        k1=delta_t*f(x,y)\n",
        "        #l1=delta_t*(g-(mu/m)*(v[n])**2)\n",
        "        k2=delta_t*f(x+delta_t/2,y+k1/2)\n",
        "        #l2=delta_t*(g-(mu/m)*(v[n]+l1/2)**2)\n",
        "        k3=delta_t*f(x+delta_t/2,y+k2/2)\n",
        "        #l3=delta_t*(g-(mu/m)*(v[n]+l2/2)**2)\n",
        "        k4=delta_t*f(x+delta_t,y+k3)\n",
        "        #l4=delta_t*(g-(mu/m)*(v[n]+l3)**2)\n",
        "        ynew=y[n]+(1/6)*(k1+2*k2+2*k3+k4)\n",
        "        y.append(ynew)\n",
        "        xnew=x[n]+(k1+2*k2+2*k3+k4)/6\n",
        "        x.append(xnew)\n",
        "        vx_new=[0]\n",
        "        vx.append(vx_new)\n",
        "        vy_new=[-g]\n",
        "        vy.append(vy_new)\n",
        "        #vnew=v[n]+(1/6)*(l1+2*l2*2*l3+l4)\n",
        "        #v.append(vnew)\n",
        "        EK1new=(0.5)*m*vx[n]**2        #Consider vx and vy here \n",
        "        EK1.append(EK1new)\n",
        "        EK2new=(0.5)*m*vy[n]**2\n",
        "        EK2.append(EK2new)\n",
        "        EP1new=[fg*L]              #Measuring the energy with respect to equilibruim\n",
        "        EP1.append(EP1new)\n",
        "        Total_Enew=EP1[n] + EK1[n] # This energy is the same as our change in kinetic energy as it represents the net work done (by Work-Energy-Theorem)\n",
        "        Total_E.append(Total_Enew)\n",
        "        tnew=t[n]+delta_t\n",
        "        t.append(tnew)\n",
        "        n=n+1\n",
        "   \n",
        "#print(y)\n",
        "plt.plot(EK1,'--','b',label='kinetic' )\n",
        "#plt.grid()\n",
        "plt.xlabel('time (s)')\n",
        "plt.title('Velocity time graph for the fisrt part of motion, with drag force in action')\n",
        "plt.ylabel('kineti')\n",
        "\n",
        "plt.legend()"
      ]
    },
    {
      "cell_type": "markdown",
      "source": [
        "Plotting Total Energy"
      ],
      "metadata": {
        "id": "wRKI-STPfMm2"
      }
    },
    {
      "cell_type": "code",
      "source": [
        "print(Total_Enew)\n",
        "plt.plot(tnew,Total_Enew, label='E')\n",
        "plt.legend()"
      ],
      "metadata": {
        "id": "SSZxmELYfGaw"
      },
      "execution_count": null,
      "outputs": []
    },
    {
      "cell_type": "markdown",
      "source": [
        ""
      ],
      "metadata": {
        "id": "yf30NunafQKb"
      }
    },
    {
      "cell_type": "markdown",
      "source": [
        "Plotting Kinetic energy"
      ],
      "metadata": {
        "id": "ljl7EZBMfRmJ"
      }
    },
    {
      "cell_type": "code",
      "source": [
        "\n",
        "#print(y)\n",
        "plt.plot(t,EK1,'--','r',label='Kinetic energy')\n",
        "plt.grid(True)\n",
        "plt.xlabel('time steps')\n",
        "plt.title('Kinetic energy vs time graph for the fisrt part of motion, with drag force in action')\n",
        "plt.ylabel('Velocity')\n",
        "#print(Total_E)\n",
        "#plt.plot(t,Total_E, label='E')\n",
        "plt.legend()"
      ],
      "metadata": {
        "id": "vBAEQTFCfKNo"
      },
      "execution_count": null,
      "outputs": []
    },
    {
      "cell_type": "markdown",
      "source": [
        "Plotting Potential energy"
      ],
      "metadata": {
        "id": "cZ2NnyoefYY1"
      }
    },
    {
      "cell_type": "code",
      "source": [
        "plt.plot(t,EP1,label='Potential energy')\n",
        "plt.grid(True)\n",
        "plt.xlabel('time (s)')\n",
        "plt.title('Potentail energy vs time graph for the fisrt part of motion, with drag force in action')\n",
        "plt.ylabel('Potential energy (J)')\n",
        "#print(Total_E)\n",
        "#plt.plot(t,Total_E, label='E')\n",
        "plt.legend()"
      ],
      "metadata": {
        "id": "cMVvQrPUfbJs"
      },
      "execution_count": null,
      "outputs": []
    }
  ]
}