{
  "nbformat": 4,
  "nbformat_minor": 0,
  "metadata": {
    "colab": {
      "name": "Group.ipynb",
      "provenance": [],
      "authorship_tag": "ABX9TyMcxPrG+H1oXfAfCZUsBZH5",
      "include_colab_link": true
    },
    "kernelspec": {
      "name": "python3",
      "display_name": "Python 3"
    },
    "language_info": {
      "name": "python"
    }
  },
  "cells": [
    {
      "cell_type": "markdown",
      "metadata": {
        "id": "view-in-github",
        "colab_type": "text"
      },
      "source": [
        "<a href=\"https://colab.research.google.com/github/Thulisile2/Demo_GitHub/blob/main/Group.ipynb\" target=\"_parent\"><img src=\"https://colab.research.google.com/assets/colab-badge.svg\" alt=\"Open In Colab\"/></a>"
      ]
    },
    {
      "cell_type": "markdown",
      "source": [
        "Without drag force "
      ],
      "metadata": {
        "id": "Z0nzsVxgsTUK"
      }
    },
    {
      "cell_type": "markdown",
      "source": [
        "#################################################################################################################################################################"
      ],
      "metadata": {
        "id": "8LfSF3An9eev"
      }
    },
    {
      "cell_type": "code",
      "source": [
        "import numpy as np #handling lists\n",
        "import matplotlib.pyplot as plt # for plotting\n",
        "\n",
        "# initial states and variables\n",
        "#  zero drag\n",
        "L=60\n",
        "k=10 #N.m^-1\n",
        "g=9.8 #m/s^2\n",
        "m=90 #kg\n",
        "mu=0\n",
        "fg=-m*g\n",
        "f=2.5\n",
        "\n",
        "n=0\n",
        "#we want a list of 4 variables\n",
        "x = [-20] # x list\n",
        "y=[0] # y list with one element, the initial state\n",
        "vy=[0] #velocity of y list\n",
        "vx=[0] # velocity of x list with one element, the initial state\n",
        "\n",
        "t=[0] # time list with one element, the initial state\n",
        "N=480 # number of time steps\n",
        "delta_t=0.25 #length of each time interval\n",
        "h=0.25/N\n",
        "EK1=[0]\n",
        "EP1=[fg*0] # approximate height before pendulum like motion , initial \n",
        "Total_E=[0]\n",
        "\n",
        "# for the second part of the motion (pendulum like), we need its total kinetic energy\n",
        "\n",
        "#EK2=[0]\n",
        "#EP2=[m*g*(h2-y)]\n",
        "#Total_E2\n",
        "\n",
        "def float(R(vx,vy)):\n",
        "  return vx\n",
        "def J(t,vx,vy):\n",
        "  return -9.8\n",
        "\n",
        "for n in range(0,N+1):\n",
        "    #while t[n]<4:\n",
        "       k1=h*np.array(R(vx,vy))\n",
        "       l1=h*J(vx,vy)\n",
        "       k2=h*R(t+h/2,vx+k1/2,vy+l1/2)\n",
        "       l2=h*J(vx+k1/2,vy+l1/2)\n",
        "       k3=h*R(vx+k2/2,vy+l2/2)\n",
        "       l3=h*J(vx+k2/2,vy+k2/2)\n",
        "       k4=h*R(vx+k3,vy+l3)\n",
        "       l4=h*J(vx+k3,vy+l3)\n",
        "       ynew=y[n]+(1/6)*(k1+2*k2+2*k3+k4)\n",
        "       y.append(ynew)\n",
        "       xnew=x[n]+(k1+2*k2+2*k3+k4)/6\n",
        "       x.append(xnew)\n",
        "       vx_new=[0]\n",
        "       vx.append(vx_new)\n",
        "       vy_new=[-g]\n",
        "       vy.append(vy_new)\n",
        "       vnew=v[n]+(1/6)*(l1+2*l2*2*l3+l4)\n",
        "       v.append(vnew)\n",
        "       EK1new=(0.5)*m*(vx[n]**2 + vy[n]**2)      #Consider vx and vy here \n",
        "       EK1.append(EK1new)\n",
        "       #EK2new=(0.5)*m*vy[n]**2\n",
        "       #EK2.append(EK2new)\n",
        "       EP1new=[fg*L]              #Measuring the energy with respect to equilibruim\n",
        "       EP1.append(EP1new)\n",
        "       Total_Enew=EP1[n] + EK1[n] # This energy is the same as our change in kinetic energy as it represents the net work done (by Work-Energy-Theorem)\n",
        "       Total_E.append(Total_Enew)\n",
        "       tnew=t[n]+delta_t\n",
        "       t.append(tnew)\n",
        "       n=n+1\n",
        "   \n",
        "#print(y)\n",
        "plt.plot(EK1,'--','b',label='kinetic' )\n",
        "#plt.grid()\n",
        "plt.xlabel('time (s)')\n",
        "plt.title('Velocity time graph for the fisrt part of motion, with drag force in action')\n",
        "plt.ylabel('kinetic')\n",
        "\n",
        "plt.legend()"
      ],
      "metadata": {
        "colab": {
          "base_uri": "https://localhost:8080/",
          "height": 130
        },
        "id": "v59OMj5kuJoE",
        "outputId": "1ee59d28-c6b6-48ff-936f-011b29ff778f"
      },
      "execution_count": 45,
      "outputs": [
        {
          "output_type": "error",
          "ename": "SyntaxError",
          "evalue": "ignored",
          "traceback": [
            "\u001b[0;36m  File \u001b[0;32m\"<ipython-input-45-282cce13afa5>\"\u001b[0;36m, line \u001b[0;32m35\u001b[0m\n\u001b[0;31m    def float(R(vx,vy)):\u001b[0m\n\u001b[0m               ^\u001b[0m\n\u001b[0;31mSyntaxError\u001b[0m\u001b[0;31m:\u001b[0m invalid syntax\n"
          ]
        }
      ]
    },
    {
      "cell_type": "markdown",
      "source": [
        "Plotting Total Energy"
      ],
      "metadata": {
        "id": "wRKI-STPfMm2"
      }
    },
    {
      "cell_type": "code",
      "source": [
        "print(Total_Enew)\n",
        "plt.plot(tnew,Total_Enew, label='E')\n",
        "plt.legend()"
      ],
      "metadata": {
        "id": "SSZxmELYfGaw"
      },
      "execution_count": null,
      "outputs": []
    },
    {
      "cell_type": "markdown",
      "source": [
        ""
      ],
      "metadata": {
        "id": "yf30NunafQKb"
      }
    },
    {
      "cell_type": "markdown",
      "source": [
        "Plotting Kinetic energy"
      ],
      "metadata": {
        "id": "ljl7EZBMfRmJ"
      }
    },
    {
      "cell_type": "code",
      "source": [
        "\n",
        "#print(y)\n",
        "plt.plot(t,EK1,'--','r',label='Kinetic energy')\n",
        "plt.grid(True)\n",
        "plt.xlabel('time steps')\n",
        "plt.title('Kinetic energy vs time graph for the fisrt part of motion, with drag force in action')\n",
        "plt.ylabel('Velocity')\n",
        "#print(Total_E)\n",
        "#plt.plot(t,Total_E, label='E')\n",
        "plt.legend()"
      ],
      "metadata": {
        "id": "vBAEQTFCfKNo"
      },
      "execution_count": null,
      "outputs": []
    },
    {
      "cell_type": "markdown",
      "source": [
        "Plotting Potential energy"
      ],
      "metadata": {
        "id": "cZ2NnyoefYY1"
      }
    },
    {
      "cell_type": "code",
      "source": [
        "plt.plot(t,EP1,label='Potential energy')\n",
        "plt.grid(True)\n",
        "plt.xlabel('time (s)')\n",
        "plt.title('Potentail energy vs time graph for the fisrt part of motion, with drag force in action')\n",
        "plt.ylabel('Potential energy (J)')\n",
        "#print(Total_E)\n",
        "#plt.plot(t,Total_E, label='E')\n",
        "plt.legend()"
      ],
      "metadata": {
        "id": "cMVvQrPUfbJs"
      },
      "execution_count": null,
      "outputs": []
    },
    {
      "cell_type": "markdown",
      "source": [
        "##############################################################################################################################################################"
      ],
      "metadata": {
        "id": "al086vXk9aE2"
      }
    },
    {
      "cell_type": "markdown",
      "source": [
        "Drag force "
      ],
      "metadata": {
        "id": "gUxZUxqOsKvF"
      }
    },
    {
      "cell_type": "code",
      "source": [
        "import numpy as np #handling lists\n",
        "import matplotlib.pyplot as plt # for plotting\n",
        "\n",
        "# initial states and variables\n",
        "# with drag\n",
        "L=60\n",
        "k=10 #N.m^-1\n",
        "g=9.8 #m/s^2\n",
        "m=90 #kg\n",
        "mu=0\n",
        "fg=-m*g\n",
        "#f=2.5\n",
        "\n",
        "n=0\n",
        "#we want a list of 4 variables\n",
        "x = [0] # x list\n",
        "y=[0] # y list with one element, the initial state\n",
        "vy=[0] #velocity of y list\n",
        "vx=[0] # velocity of x list with one element, the initial state\n",
        "\n",
        "t=[0] # time list with one element, the initial state\n",
        "N=480 # number of time steps\n",
        "delta_t=0.25 #length of each time interval\n",
        "h=0.25\n",
        "EK1=[0]\n",
        "EP1=[fg*56.6] # approximate height before pendulum like motion , initial \n",
        "Total_E=[0]\n",
        "\n",
        "# for the second part of the motion (pendulum like), we need its total kinetic energy\n",
        "\n",
        "EK2=[0]\n",
        "#EP2=[m*g*(h2-y)]\n",
        "#Total_E2\n",
        "\n",
        "def f(vx,vy):\n",
        "  vx\n",
        "def g(vx,vy):\n",
        "  p=-g + mu*v**2\n",
        "  return p\n",
        "\n",
        "for n in range(N):\n",
        "    while t[n]<4:\n",
        "        k1=delta_t*f(vx,vy)\n",
        "        #l1=delta_t*(g-(mu/m)*(v[n])**2)\n",
        "        k2=delta_t*f(vx+delta_t/2,vy+k1/2)\n",
        "        #l2=delta_t*(g-(mu/m)*(v[n]+l1/2)**2)\n",
        "        k3=delta_t*f(vx+delta_t/2,vy+k2/2)\n",
        "        #l3=delta_t*(g-(mu/m)*(v[n]+l2/2)**2)\n",
        "        k4=delta_t*f(vx+delta_t,vy+k3)\n",
        "        #l4=delta_t*(g-(mu/m)*(v[n]+l3)**2)\n",
        "        ynew=y[n]+(1/6)*(k1+2*k2+2*k3+k4)\n",
        "        y.append(ynew)\n",
        "        xnew=x[n]+(k1+2*k2+2*k3+k4)/6\n",
        "        x.append(xnew)\n",
        "        vx_new=[0]\n",
        "        vx.append(vx_new)\n",
        "        vy_new=[-g+mu*v**2]\n",
        "        vy.append(vy_new)\n",
        "        #vnew=v[n]+(1/6)*(l1+2*l2*2*l3+l4)\n",
        "        #v.append(vnew)\n",
        "        EK1new=(0.5)*m*vx[n]**2        #Consider vx and vy here \n",
        "        EK1.append(EK1new)\n",
        "        EK2new=(0.5)*m*vy[n]**2\n",
        "        EK2.append(EK2new)\n",
        "        EP1new=[fg*L]              #Measuring the energy with respect to equilibruim\n",
        "        EP1.append(EP1new)\n",
        "        Total_Enew=EP1[n] + EK1[n] # This energy is the same as our change in kinetic energy as it represents the net work done (by Work-Energy-Theorem)\n",
        "        Total_E.append(Total_Enew)\n",
        "        tnew=t[n]+delta_t\n",
        "        t.append(tnew)\n",
        "        n=n+1\n",
        "   \n",
        "#print(y)\n",
        "plt.plot(EK1,'--','b',label='kinetic' )\n",
        "#plt.grid()\n",
        "plt.xlabel('time (s)')\n",
        "plt.title('Velocity time graph for the fisrt part of motion, with drag force in action')\n",
        "plt.ylabel('kineti')\n",
        "\n",
        "plt.legend()"
      ],
      "metadata": {
        "colab": {
          "base_uri": "https://localhost:8080/",
          "height": 235
        },
        "id": "q2DrsVBcsKIz",
        "outputId": "221cd732-3e35-4bf6-e47b-a048784457ad"
      },
      "execution_count": 39,
      "outputs": [
        {
          "output_type": "error",
          "ename": "TypeError",
          "evalue": "ignored",
          "traceback": [
            "\u001b[0;31m---------------------------------------------------------------------------\u001b[0m",
            "\u001b[0;31mTypeError\u001b[0m                                 Traceback (most recent call last)",
            "\u001b[0;32m<ipython-input-39-2feb39cd9784>\u001b[0m in \u001b[0;36m<module>\u001b[0;34m()\u001b[0m\n\u001b[1;32m     40\u001b[0m \u001b[0;32mfor\u001b[0m \u001b[0mn\u001b[0m \u001b[0;32min\u001b[0m \u001b[0mrange\u001b[0m\u001b[0;34m(\u001b[0m\u001b[0mN\u001b[0m\u001b[0;34m)\u001b[0m\u001b[0;34m:\u001b[0m\u001b[0;34m\u001b[0m\u001b[0;34m\u001b[0m\u001b[0m\n\u001b[1;32m     41\u001b[0m     \u001b[0;32mwhile\u001b[0m \u001b[0mt\u001b[0m\u001b[0;34m[\u001b[0m\u001b[0mn\u001b[0m\u001b[0;34m]\u001b[0m\u001b[0;34m<\u001b[0m\u001b[0;36m4\u001b[0m\u001b[0;34m:\u001b[0m\u001b[0;34m\u001b[0m\u001b[0;34m\u001b[0m\u001b[0m\n\u001b[0;32m---> 42\u001b[0;31m         \u001b[0mk1\u001b[0m\u001b[0;34m=\u001b[0m\u001b[0mdelta_t\u001b[0m\u001b[0;34m*\u001b[0m\u001b[0mf\u001b[0m\u001b[0;34m(\u001b[0m\u001b[0mvx\u001b[0m\u001b[0;34m,\u001b[0m\u001b[0mvy\u001b[0m\u001b[0;34m)\u001b[0m\u001b[0;34m\u001b[0m\u001b[0;34m\u001b[0m\u001b[0m\n\u001b[0m\u001b[1;32m     43\u001b[0m         \u001b[0;31m#l1=delta_t*(g-(mu/m)*(v[n])**2)\u001b[0m\u001b[0;34m\u001b[0m\u001b[0;34m\u001b[0m\u001b[0;34m\u001b[0m\u001b[0m\n\u001b[1;32m     44\u001b[0m         \u001b[0mk2\u001b[0m\u001b[0;34m=\u001b[0m\u001b[0mdelta_t\u001b[0m\u001b[0;34m*\u001b[0m\u001b[0mf\u001b[0m\u001b[0;34m(\u001b[0m\u001b[0mvx\u001b[0m\u001b[0;34m+\u001b[0m\u001b[0mdelta_t\u001b[0m\u001b[0;34m/\u001b[0m\u001b[0;36m2\u001b[0m\u001b[0;34m,\u001b[0m\u001b[0mvy\u001b[0m\u001b[0;34m+\u001b[0m\u001b[0mk1\u001b[0m\u001b[0;34m/\u001b[0m\u001b[0;36m2\u001b[0m\u001b[0;34m)\u001b[0m\u001b[0;34m\u001b[0m\u001b[0;34m\u001b[0m\u001b[0m\n",
            "\u001b[0;31mTypeError\u001b[0m: unsupported operand type(s) for *: 'float' and 'NoneType'"
          ]
        }
      ]
    }
  ]
}