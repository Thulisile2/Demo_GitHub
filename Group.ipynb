{
  "nbformat": 4,
  "nbformat_minor": 0,
  "metadata": {
    "colab": {
      "name": "Group.ipynb",
      "provenance": [],
      "authorship_tag": "ABX9TyOqYpNrWsK+b+yPKPCAcRRk",
      "include_colab_link": true
    },
    "kernelspec": {
      "name": "python3",
      "display_name": "Python 3"
    },
    "language_info": {
      "name": "python"
    }
  },
  "cells": [
    {
      "cell_type": "markdown",
      "metadata": {
        "id": "view-in-github",
        "colab_type": "text"
      },
      "source": [
        "<a href=\"https://colab.research.google.com/github/Thulisile2/Demo_GitHub/blob/main/Group.ipynb\" target=\"_parent\"><img src=\"https://colab.research.google.com/assets/colab-badge.svg\" alt=\"Open In Colab\"/></a>"
      ]
    },
    {
      "cell_type": "markdown",
      "source": [
        "Without drag force "
      ],
      "metadata": {
        "id": "Z0nzsVxgsTUK"
      }
    },
    {
      "cell_type": "markdown",
      "source": [
        "#################################################################################################################################################################"
      ],
      "metadata": {
        "id": "8LfSF3An9eev"
      }
    },
    {
      "cell_type": "code",
      "source": [
        "import numpy as np #handling lists\n",
        "import matplotlib.pyplot as plt # for plotting\n",
        "\n",
        "# initial states and variables\n",
        "#  zero drag\n",
        "L=60\n",
        "k=10 #N.m^-1\n",
        "g=9.8 #m/s^2\n",
        "m=90 #kg\n",
        "mu=0\n",
        "fg=-m*g\n",
        "f=2.5\n",
        "\n",
        "n=0\n",
        "#we want a list of 4 variables\n",
        "x = -20 # x list\n",
        "y=0 # y list with one element, the initial state\n",
        "vy=0 #velocity of y list\n",
        "vx=0 # velocity of x list with one element, the initial state\n",
        "\n",
        "t=120 # time list with one element, the initial state\n",
        "N=480 # number of time steps\n",
        "delta_t=0.25 #length of each time interval\n",
        "h=0.25\n",
        "EK1=[0]\n",
        "EP1=[fg*0] # approximate height before pendulum like motion , initial \n",
        "Total_E=[0]\n",
        "\n",
        "# for the second part of the motion (pendulum like), we need its total kinetic energy\n",
        "\n",
        "#EK2=[0]\n",
        "#EP2=[m*g*(h2-y)]\n",
        "#Total_E2\n",
        "\n",
        "\n",
        "\n",
        "vx=0\n",
        "vy=m*g\n",
        "\n",
        "def F(vx,vy):\n",
        "  vx=vx/m\n",
        "  vy=vy/m\n",
        "  return(vx,vy)\n",
        "\n",
        "for n in range(180):\n",
        "    #while t[n]<4:\n",
        "       k1=h*np.array(F(vx,vy))\n",
        "       #l1=h*F(vx,vy)\n",
        "       k2=h*np.array(F(vx+h/2,vy+k1/2))\n",
        "       #l2=h*F(vx+k1/2,vy+l1/2)\n",
        "       k3=h*np.array(F(vx+h/2,vy+k2/2))\n",
        "       #l3=h*F(vx+k2/2,vy+k2/2)\n",
        "       k4=h*np.array(F(vx+h,vy+k3))\n",
        "       #l4=h*F(vx+k3,vy+l3)\n",
        "       ynew+=(1/6)*(k1+2*k2+2*k3+k4)\n",
        "       #y.append(ynew)\n",
        "       xnew+=(k1+2*k2+2*k3+k4)/6\n",
        "       #x.append(xnew)\n",
        "       vx_new+=0\n",
        "       #vx.append(vx_new)\n",
        "       vy_new+=(-g)\n",
        "       #vy.append(vy_new)\n",
        "       #vnew=v[n]+(1/6)*(l1+2*l2*2*l3+l4)\n",
        "       #v.append(vnew)\n",
        "       EK1new +=(0.5)*m*(vx**2 + vy**2)     #Consider vx and vy here \n",
        "       #EK1.append(EK1new)\n",
        "       #EK2new=(0.5)*m*vy[n]**2\n",
        "       #EK2.append(EK2new)\n",
        "       EP1new += fg*L              #Measuring the energy with respect to equilibruim\n",
        "       #EP1.append(EP1new)\n",
        "       Total_Enew=EP1new + EK1new #          This energy is the same as our change in kinetic energy as it represents the net work done (by Work-Energy-Theorem)\n",
        "       Total_E.append(Total_Enew)\n",
        "       tnew+=t+delta_t\n",
        "       #t.append(tnew)\n",
        "       n=n+1\n",
        "   \n",
        "#print(y)\n",
        "plt.plot(EK1new,EP1,'--','b',label='kinetic' )\n",
        "#plt.grid()\n",
        "plt.xlabel('Kinetic energy')\n",
        "plt.title('Plotting the Potential energy versus the Kinetic energy')\n",
        "plt.ylabel('Potential energy')\n",
        "\n",
        "plt.legend()"
      ],
      "metadata": {
        "colab": {
          "base_uri": "https://localhost:8080/",
          "height": 384
        },
        "id": "v59OMj5kuJoE",
        "outputId": "36eb45e4-6920-426a-d6fa-427b336336e0"
      },
      "execution_count": 182,
      "outputs": [
        {
          "output_type": "stream",
          "name": "stderr",
          "text": [
            "/usr/local/lib/python3.7/dist-packages/ipykernel_launcher.py:49: VisibleDeprecationWarning: Creating an ndarray from ragged nested sequences (which is a list-or-tuple of lists-or-tuples-or ndarrays with different lengths or shapes) is deprecated. If you meant to do this, you must specify 'dtype=object' when creating the ndarray.\n",
            "/usr/local/lib/python3.7/dist-packages/ipykernel_launcher.py:51: VisibleDeprecationWarning: Creating an ndarray from ragged nested sequences (which is a list-or-tuple of lists-or-tuples-or ndarrays with different lengths or shapes) is deprecated. If you meant to do this, you must specify 'dtype=object' when creating the ndarray.\n",
            "/usr/local/lib/python3.7/dist-packages/ipykernel_launcher.py:53: VisibleDeprecationWarning: Creating an ndarray from ragged nested sequences (which is a list-or-tuple of lists-or-tuples-or ndarrays with different lengths or shapes) is deprecated. If you meant to do this, you must specify 'dtype=object' when creating the ndarray.\n"
          ]
        },
        {
          "output_type": "execute_result",
          "data": {
            "text/plain": [
              "<matplotlib.legend.Legend at 0x7f70c8b36910>"
            ]
          },
          "metadata": {},
          "execution_count": 182
        },
        {
          "output_type": "display_data",
          "data": {
            "text/plain": [
              "<Figure size 432x288 with 1 Axes>"
            ],
            "image/png": "[encoded data removed]"
          },
          "metadata": {
            "needs_background": "light"
          }
        }
      ]
    },
    {
      "cell_type": "markdown",
      "source": [
        "Plotting Total Energy"
      ],
      "metadata": {
        "id": "wRKI-STPfMm2"
      }
    },
    {
      "cell_type": "code",
      "source": [
        "print(Total_Enew)\n",
        "plt.plot(tnew,EP1new,label='time')\n",
        "plt.grid(True)\n",
        "plt.xlabel('time (s)')\n",
        "plt.title('Total energy vs time without drag force in action')\n",
        "plt.ylabel('Total energy')\n",
        "plt.plot(Total_Enew,tnew, label='E')\n",
        "plt.legend()"
      ],
      "metadata": {
        "id": "SSZxmELYfGaw",
        "colab": {
          "base_uri": "https://localhost:8080/",
          "height": 330
        },
        "outputId": "4e5ccf57-9b76-49dd-d9a1-515b4fe0ea0c"
      },
      "execution_count": 162,
      "outputs": [
        {
          "output_type": "stream",
          "name": "stdout",
          "text": [
            "34953660.00000001\n"
          ]
        },
        {
          "output_type": "execute_result",
          "data": {
            "text/plain": [
              "<matplotlib.legend.Legend at 0x7f70c8c53390>"
            ]
          },
          "metadata": {},
          "execution_count": 162
        },
        {
          "output_type": "display_data",
          "data": {
            "text/plain": [
              "<Figure size 432x288 with 1 Axes>"
            ],
            "image/png": "[encoded data removed]"
          },
          "metadata": {
            "needs_background": "light"
          }
        }
      ]
    },
    {
      "cell_type": "markdown",
      "source": [
        ""
      ],
      "metadata": {
        "id": "yf30NunafQKb"
      }
    },
    {
      "cell_type": "markdown",
      "source": [
        "Plotting Kinetic energy"
      ],
      "metadata": {
        "id": "ljl7EZBMfRmJ"
      }
    },
    {
      "cell_type": "code",
      "source": [
        "\n",
        "#print(y)\n",
        "plt.plot(EK1new,tnew,'--','r',label='Kinetic energy')\n",
        "plt.grid(True)\n",
        "plt.xlabel('time (s)')\n",
        "plt.title('Kinetic energy vs time graph for the fisrt part of motion, with drag force in action')\n",
        "plt.ylabel('Kinetic energy')\n",
        "#print(Total_E)\n",
        "#plt.plot(t,Total_E, label='E')\n",
        "plt.legend()"
      ],
      "metadata": {
        "id": "vBAEQTFCfKNo",
        "colab": {
          "base_uri": "https://localhost:8080/",
          "height": 312
        },
        "outputId": "a9487737-dd2f-41ce-c2c6-eb67992ccf3f"
      },
      "execution_count": 165,
      "outputs": [
        {
          "output_type": "execute_result",
          "data": {
            "text/plain": [
              "<matplotlib.legend.Legend at 0x7f70c8c01990>"
            ]
          },
          "metadata": {},
          "execution_count": 165
        },
        {
          "output_type": "display_data",
          "data": {
            "text/plain": [
              "<Figure size 432x288 with 1 Axes>"
            ],
            "image/png": "[encoded data removed]"
          },
          "metadata": {
            "needs_background": "light"
          }
        }
      ]
    },
    {
      "cell_type": "markdown",
      "source": [
        "Plotting Potential energy"
      ],
      "metadata": {
        "id": "cZ2NnyoefYY1"
      }
    },
    {
      "cell_type": "code",
      "source": [
        "plt.plot(tnew,EP1new,label='Potential energy')\n",
        "plt.grid(True)\n",
        "plt.xlabel('time (s)')\n",
        "plt.title('Potentail energy vs time graph for the fisrt part of motion, with drag force in action')\n",
        "plt.ylabel('Potential energy (J)')\n",
        "#print(Total_E)\n",
        "#plt.plot(t,Total_E, label='E')\n",
        "plt.legend()"
      ],
      "metadata": {
        "id": "cMVvQrPUfbJs",
        "colab": {
          "base_uri": "https://localhost:8080/",
          "height": 312
        },
        "outputId": "f392752a-6aa0-4354-ff71-c115b617f7cb"
      },
      "execution_count": 163,
      "outputs": [
        {
          "output_type": "execute_result",
          "data": {
            "text/plain": [
              "<matplotlib.legend.Legend at 0x7f70c8c0a350>"
            ]
          },
          "metadata": {},
          "execution_count": 163
        },
        {
          "output_type": "display_data",
          "data": {
            "text/plain": [
              "<Figure size 432x288 with 1 Axes>"
            ],
            "image/png": "[encoded data removed]"
          },
          "metadata": {
            "needs_background": "light"
          }
        }
      ]
    },
    {
      "cell_type": "markdown",
      "source": [
        "##############################################################################################################################################################"
      ],
      "metadata": {
        "id": "al086vXk9aE2"
      }
    },
    {
      "cell_type": "markdown",
      "source": [
        "Drag force "
      ],
      "metadata": {
        "id": "gUxZUxqOsKvF"
      }
    },
    {
      "cell_type": "code",
      "source": [
        "import numpy as np #handling lists\n",
        "import matplotlib.pyplot as plt # for plotting\n",
        "\n",
        "# initial states and variables\n",
        "#  with drag\n",
        "L=60\n",
        "k=10 #N.m^-1\n",
        "g=9.8 #m/s^2\n",
        "m=90 #kg\n",
        "mu=0.77\n",
        "fg=-m*g\n",
        "f=2.5\n",
        "\n",
        "n=0\n",
        "#we want a list of 4 variables\n",
        "x = 0 # x list\n",
        "y=56.6 # y list with one element, the initial state\n",
        "vy=0 #velocity of y list\n",
        "vx=0 # velocity of x list with one element, the initial state\n",
        "\n",
        "t=120 # time list with one element, the initial state\n",
        "N=480 # number of time steps\n",
        "delta_t=0.25 #length of each time interval\n",
        "h=0.25\n",
        "EK1=0\n",
        "EP1=fg*56.6 # approximate height before pendulum like motion , initial \n",
        "Total_E=[]\n",
        "\n",
        "# for the second part of the motion (pendulum like), we need its total kinetic energy\n",
        "\n",
        "#EK2=[0]\n",
        "#EP2=[m*g*(h2-y)]\n",
        "#Total_E2\n",
        "\n",
        "\n",
        "\n",
        "#vx=k*L\n",
        "#vy=-g + mu*v**2\n",
        "\n",
        "def F(x,vx):\n",
        "  return k*L\n",
        "\n",
        "def G(y,vy):\n",
        "  #q=-g + mu*pow(vy, 2)\n",
        "  return -g + mu*pow(vy, 2)\n",
        "x =[]\n",
        "y=[]\n",
        "for n in range(N):\n",
        "       k1=h*np.array(F(vx,vy))\n",
        "       l1=h*G(vx,vy)\n",
        "       k2=h*np.array(F(vx+h/2,vy+k1/2))\n",
        "       l2=h*G(vx+k1/2,vy+l1/2)\n",
        "       k3=h*np.array(F(vx+h/2,vy+k2/2))\n",
        "       l3=h*G(vx+k2/2,vy+k2/2)\n",
        "       k4=h*np.array(F(vx+h,vy+k3))\n",
        "       l4=h*G(vx+k3,vy+l3)\n",
        "       xnew+=(1/6)*(k1+2*k2+2*k3+k4)\n",
        "       x.append(xnew)\n",
        "       ynew=(k1+2*k2+2*k3+k4)/6\n",
        "       y.append(ynew)\n",
        "       #vx_new+=0\n",
        "       #vx.append(vx_new)\n",
        "       #vy_new+=(-g)\n",
        "       #vy.append(vy_new)\n",
        "       vx += (1/6)*(l1+2*l2*2*l3+l4)\n",
        "       vy += (1/6)*(l1+2*l2*2*l3+l4)\n",
        "       #v.append(vnew)\n",
        "       EK1new +=(0.5)*m*(vx**2 + vy**2)     #Consider vx and vy here \n",
        "       #EK1.append(EK1new)\n",
        "       #EK2new=(0.5)*m*vy[n]**2\n",
        "       #EK2.append(EK2new)\n",
        "       EP1new += fg*L              #Measuring the energy with respect to equilibruim\n",
        "       #EP1.append(EP1new)\n",
        "       Total_Enew+=EP1new + EK1new #          This energy is the same as our change in kinetic energy as it represents the net work done (by Work-Energy-Theorem)\n",
        "       Total_E.append(Total_Enew)\n",
        "       tnew += t+delta_t\n",
        "      # t.append(tnew)\n",
        "       #n=n+1\n",
        "   "
      ],
      "metadata": {
        "colab": {
          "base_uri": "https://localhost:8080/"
        },
        "id": "N3fUgBhqGYbq",
        "outputId": "c7be93e8-8d3e-482c-bb02-33ea81583f33"
      },
      "execution_count": 202,
      "outputs": [
        {
          "output_type": "stream",
          "name": "stderr",
          "text": [
            "/usr/local/lib/python3.7/dist-packages/ipykernel_launcher.py:45: RuntimeWarning: overflow encountered in double_scalars\n"
          ]
        }
      ]
    },
    {
      "cell_type": "code",
      "source": [
        "plt.plot(EK1new,EP1,'--','b',label='kinetic' )\n",
        "#plt.grid()\n",
        "plt.xlabel('Kinetic energy')\n",
        "plt.title('Plotting the Potential energy versus the Kinetic energy')\n",
        "plt.ylabel('Potential energy')\n",
        "\n",
        "plt.legend()"
      ],
      "metadata": {
        "colab": {
          "base_uri": "https://localhost:8080/",
          "height": 312
        },
        "id": "cDqC9gRbTdVd",
        "outputId": "4bf05ef8-87e7-4acd-f4a9-14aa8e3d741c"
      },
      "execution_count": 203,
      "outputs": [
        {
          "output_type": "execute_result",
          "data": {
            "text/plain": [
              "<matplotlib.legend.Legend at 0x7f70c0274050>"
            ]
          },
          "metadata": {},
          "execution_count": 203
        },
        {
          "output_type": "display_data",
          "data": {
            "text/plain": [
              "<Figure size 432x288 with 1 Axes>"
            ],
            "image/png": "[encoded data removed]"
          },
          "metadata": {
            "needs_background": "light"
          }
        }
      ]
    },
    {
      "cell_type": "markdown",
      "source": [
        "code not running and not fixed "
      ],
      "metadata": {
        "id": "50JtKt4XUbKd"
      }
    },
    {
      "cell_type": "code",
      "source": [
        "import numpy as np #handling lists\n",
        "import matplotlib.pyplot as plt # for plotting\n",
        "\n",
        "# initial states and variables\n",
        "# with drag\n",
        "L=60\n",
        "k=10 #N.m^-1\n",
        "g=9.8 #m/s^2\n",
        "m=90 #kg\n",
        "mu=0\n",
        "fg=-m*g\n",
        "#f=2.5\n",
        "\n",
        "n=0\n",
        "#we want a list of 4 variables\n",
        "x = [0] # x list\n",
        "y=[0] # y list with one element, the initial state\n",
        "vy=0 #velocity of y list\n",
        "vx=0 # velocity of x list with one element, the initial state\n",
        "\n",
        "t=[0] # time list with one element, the initial state\n",
        "N=480 # number of time steps\n",
        "delta_t=0.25 #length of each time interval\n",
        "h=0.25\n",
        "EK1=[0]\n",
        "EP1=[fg*56.6] # approximate height before pendulum like motion , initial \n",
        "Total_E=[0]\n",
        "\n",
        "# for the second part of the motion (pendulum like), we need its total kinetic energy\n",
        "\n",
        "EK2=[0]\n",
        "#EP2=[m*g*(h2-y)]\n",
        "#Total_E2\n",
        "\n",
        "def f(k,L,vx,vy):\n",
        "  q=k*L\n",
        "  return q\n",
        "def w(g,mu,vx,vy):\n",
        "  p=-g + mu*vy**2\n",
        "  return p\n",
        "\n",
        "for n in range(N):\n",
        "        k1=h*f(k,L,vx,vy)\n",
        "        #l1=delta_t*(g-(mu/m)*(v[n])**2)\n",
        "        k2=h*f(k,L,vx+delta_t/2,vy+k1/2)\n",
        "        #l2=delta_t*(g-(mu/m)*(v[n]+l1/2)**2)\n",
        "        k3=h*f(k,L,vx+delta_t/2,vy+k2/2)\n",
        "        #l3=delta_t*(g-(mu/m)*(v[n]+l2/2)**2)\n",
        "        k4=h*f(k,L,vx+delta_t,vy+k3)\n",
        "        #l4=delta_t*(g-(mu/m)*(v[n]+l3)**2)\n",
        "        ynew=y[n]+(1/6)*(k1+2*k2+2*k3+k4)\n",
        "        y.append(ynew)\n",
        "        xnew=x[n]+(k1+2*k2+2*k3+k4)/6\n",
        "        x.append(xnew)\n",
        "        vx_new=[0]\n",
        "        #vx.append(vx_new)\n",
        "        vy_new=-g+mu*vy**2\n",
        "        #vy.append(vy_new)\n",
        "        #vnew=v[n]+(1/6)*(l1+2*l2*2*l3+l4)\n",
        "        #v.append(vnew)\n",
        "        EK1new=(0.5)*m*vx[n]**2        #Consider vx and vy here \n",
        "        EK1.append(EK1new)\n",
        "        EK2new=(0.5)*m*vy[n]**2\n",
        "        EK2.append(EK2new)\n",
        "        EP1new=[fg*L]              #Measuring the energy with respect to equilibruim\n",
        "        EP1.append(EP1new)\n",
        "        Total_Enew=EP1[n] + EK1[n] # This energy is the same as our change in kinetic energy as it represents the net work done (by Work-Energy-Theorem)\n",
        "        Total_E.append(Total_Enew)\n",
        "        tnew=t[n]+delta_t\n",
        "        t.append(tnew)\n",
        "        n=n+1\n",
        "   \n",
        "#print(y)\n",
        "plt.plot(EK1,'--','b',label='kinetic' )\n",
        "#plt.grid()\n",
        "plt.xlabel('time (s)')\n",
        "plt.title('Velocity time graph for the fisrt part of motion, with drag force in action')\n",
        "plt.ylabel('kineti')\n",
        "\n",
        "plt.legend()"
      ],
      "metadata": {
        "colab": {
          "base_uri": "https://localhost:8080/",
          "height": 235
        },
        "id": "q2DrsVBcsKIz",
        "outputId": "d14a57b7-ae05-4ca7-e52d-5d7ee189792f"
      },
      "execution_count": 58,
      "outputs": [
        {
          "output_type": "error",
          "ename": "TypeError",
          "evalue": "ignored",
          "traceback": [
            "\u001b[0;31m---------------------------------------------------------------------------\u001b[0m",
            "\u001b[0;31mTypeError\u001b[0m                                 Traceback (most recent call last)",
            "\u001b[0;32m<ipython-input-58-b970435bb14b>\u001b[0m in \u001b[0;36m<module>\u001b[0;34m()\u001b[0m\n\u001b[1;32m     59\u001b[0m         \u001b[0;31m#vnew=v[n]+(1/6)*(l1+2*l2*2*l3+l4)\u001b[0m\u001b[0;34m\u001b[0m\u001b[0;34m\u001b[0m\u001b[0;34m\u001b[0m\u001b[0m\n\u001b[1;32m     60\u001b[0m         \u001b[0;31m#v.append(vnew)\u001b[0m\u001b[0;34m\u001b[0m\u001b[0;34m\u001b[0m\u001b[0;34m\u001b[0m\u001b[0m\n\u001b[0;32m---> 61\u001b[0;31m         \u001b[0mEK1new\u001b[0m\u001b[0;34m=\u001b[0m\u001b[0;34m(\u001b[0m\u001b[0;36m0.5\u001b[0m\u001b[0;34m)\u001b[0m\u001b[0;34m*\u001b[0m\u001b[0mm\u001b[0m\u001b[0;34m*\u001b[0m\u001b[0mvx\u001b[0m\u001b[0;34m[\u001b[0m\u001b[0mn\u001b[0m\u001b[0;34m]\u001b[0m\u001b[0;34m**\u001b[0m\u001b[0;36m2\u001b[0m        \u001b[0;31m#Consider vx and vy here\u001b[0m\u001b[0;34m\u001b[0m\u001b[0;34m\u001b[0m\u001b[0m\n\u001b[0m\u001b[1;32m     62\u001b[0m         \u001b[0mEK1\u001b[0m\u001b[0;34m.\u001b[0m\u001b[0mappend\u001b[0m\u001b[0;34m(\u001b[0m\u001b[0mEK1new\u001b[0m\u001b[0;34m)\u001b[0m\u001b[0;34m\u001b[0m\u001b[0;34m\u001b[0m\u001b[0m\n\u001b[1;32m     63\u001b[0m         \u001b[0mEK2new\u001b[0m\u001b[0;34m=\u001b[0m\u001b[0;34m(\u001b[0m\u001b[0;36m0.5\u001b[0m\u001b[0;34m)\u001b[0m\u001b[0;34m*\u001b[0m\u001b[0mm\u001b[0m\u001b[0;34m*\u001b[0m\u001b[0mvy\u001b[0m\u001b[0;34m[\u001b[0m\u001b[0mn\u001b[0m\u001b[0;34m]\u001b[0m\u001b[0;34m**\u001b[0m\u001b[0;36m2\u001b[0m\u001b[0;34m\u001b[0m\u001b[0;34m\u001b[0m\u001b[0m\n",
            "\u001b[0;31mTypeError\u001b[0m: 'int' object is not subscriptable"
          ]
        }
      ]
    }
  ]
}